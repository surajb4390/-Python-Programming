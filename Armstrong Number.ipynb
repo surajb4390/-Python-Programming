{
 "cells": [
  {
   "cell_type": "code",
   "execution_count": 9,
   "id": "9c94a5f4",
   "metadata": {},
   "outputs": [
    {
     "name": "stdout",
     "output_type": "stream",
     "text": [
      "Enter a number: 371\n",
      "371 is an Armstrong Number\n"
     ]
    }
   ],
   "source": [
    "n = int(input('Enter a number: '))\n",
    "\n",
    "string = str(n) #converting int to string to check how many digits it has\n",
    "\n",
    "length = len(string)\n",
    "\n",
    "num = int(string)\n",
    "\n",
    "sum=0\n",
    "\n",
    "while length!=0:\n",
    "    digit =  num%10       #find last digit\n",
    "    sum = sum + digit**3  #making cube of digit\n",
    "    num = num//10         #for to neglect last digit\n",
    "    length-=1\n",
    "    \n",
    "#checking Given Number is Armstrong or Not\n",
    "if n==sum:\n",
    "    print(n,'is an Armstrong Number')\n",
    "else:\n",
    "    print(n,'is Not an Armstrong Number')"
   ]
  }
 ],
 "metadata": {
  "kernelspec": {
   "display_name": "Python 3 (ipykernel)",
   "language": "python",
   "name": "python3"
  },
  "language_info": {
   "codemirror_mode": {
    "name": "ipython",
    "version": 3
   },
   "file_extension": ".py",
   "mimetype": "text/x-python",
   "name": "python",
   "nbconvert_exporter": "python",
   "pygments_lexer": "ipython3",
   "version": "3.9.7"
  }
 },
 "nbformat": 4,
 "nbformat_minor": 5
}
