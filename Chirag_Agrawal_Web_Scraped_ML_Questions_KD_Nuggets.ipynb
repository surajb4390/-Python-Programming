{
  "nbformat": 4,
  "nbformat_minor": 0,
  "metadata": {
    "colab": {
      "name": "Chirag Agrawal Web Scraped ML Questions KD Nuggets.ipynb",
      "provenance": [],
      "collapsed_sections": []
    },
    "kernelspec": {
      "name": "python3",
      "display_name": "Python 3"
    },
    "language_info": {
      "name": "python"
    }
  },
  "cells": [
    {
      "cell_type": "code",
      "execution_count": 891,
      "metadata": {
        "id": "doOAgCdK5xrh"
      },
      "outputs": [],
      "source": [
        "! pip install requests --upgrade --quiet"
      ]
    },
    {
      "cell_type": "code",
      "source": [
        "! pip install folium --upgrade"
      ],
      "metadata": {
        "id": "CW_CmyLF6CJd"
      },
      "execution_count": 892,
      "outputs": []
    },
    {
      "cell_type": "code",
      "source": [
        "import pandas as pd"
      ],
      "metadata": {
        "id": "9wGadysmiVC5"
      },
      "execution_count": 979,
      "outputs": []
    },
    {
      "cell_type": "markdown",
      "source": [
        "# Request module"
      ],
      "metadata": {
        "id": "VmVJy3bX7YE0"
      }
    },
    {
      "cell_type": "code",
      "source": [
        "import requests"
      ],
      "metadata": {
        "id": "npu-BRFH6ctQ"
      },
      "execution_count": 893,
      "outputs": []
    },
    {
      "cell_type": "code",
      "source": [
        "topics_url = 'https://www.kdnuggets.com/2021/08/30-machine-learning-questions-answered.html'"
      ],
      "metadata": {
        "id": "dB2-MNKx6pw5"
      },
      "execution_count": 894,
      "outputs": []
    },
    {
      "cell_type": "code",
      "source": [
        "response = requests.get(topics_url)"
      ],
      "metadata": {
        "id": "W3wb_7Wo6vWO"
      },
      "execution_count": 895,
      "outputs": []
    },
    {
      "cell_type": "markdown",
      "source": [
        "status code helps to check what is the status of our code.\n",
        "\n",
        "> Informational responses (100–199)\n",
        "\n",
        "> Successful responses (200–299)\n",
        "\n",
        "\n",
        "> Redirection messages (300–399)\n",
        "\n",
        "> Client error responses (400–499)\n",
        "\n",
        "> Server error responses (500–599)\n",
        "\n",
        "\n",
        "\n",
        "\n",
        "\n",
        "\n",
        "\n",
        "\n",
        "\n"
      ],
      "metadata": {
        "id": "AOy-cRyK62G2"
      }
    },
    {
      "cell_type": "code",
      "source": [
        "response.status_code     #successful "
      ],
      "metadata": {
        "colab": {
          "base_uri": "https://localhost:8080/"
        },
        "id": "1J-5QZG66zbS",
        "outputId": "c34f5485-a662-4e5e-a177-08fef2351b93"
      },
      "execution_count": 896,
      "outputs": [
        {
          "output_type": "execute_result",
          "data": {
            "text/plain": [
              "200"
            ]
          },
          "metadata": {},
          "execution_count": 896
        }
      ]
    },
    {
      "cell_type": "code",
      "source": [
        "len(response.text)"
      ],
      "metadata": {
        "colab": {
          "base_uri": "https://localhost:8080/"
        },
        "id": "_gYcvuTy607N",
        "outputId": "70858471-6e44-4a98-ee59-959db1804d51"
      },
      "execution_count": 897,
      "outputs": [
        {
          "output_type": "execute_result",
          "data": {
            "text/plain": [
              "62893"
            ]
          },
          "metadata": {},
          "execution_count": 897
        }
      ]
    },
    {
      "cell_type": "markdown",
      "source": [
        "webpage content"
      ],
      "metadata": {
        "id": "oXL7Z8T57w8q"
      }
    },
    {
      "cell_type": "code",
      "source": [
        "page_contents = response.text\n",
        "page_contents[:1000]"
      ],
      "metadata": {
        "colab": {
          "base_uri": "https://localhost:8080/",
          "height": 121
        },
        "id": "g78AIyRx7kTu",
        "outputId": "2ee82972-824f-4509-9089-ad5155cc31b0"
      },
      "execution_count": 898,
      "outputs": [
        {
          "output_type": "execute_result",
          "data": {
            "application/vnd.google.colaboratory.intrinsic+json": {
              "type": "string"
            },
            "text/plain": [
              "'<!DOCTYPE html>\\n<html xmlns=\"https://www.w3.org/1999/xhtml\" lang=\"en-US\">\\n<head profile=\"https://gmpg.org/xfn/11\">\\n<meta http-equiv=\"Content-Type\" content=\"text/html; charset=UTF-8\" />\\n<meta name=viewport content=\"width=device-width, initial-scale=1\">\\n<meta name=\"robots\" content=\"max-image-preview:large\">\\n<title>  30 Most Asked Machine Learning Questions Answered - KDnuggets</title>\\n<link rel=\"shortcut icon\" href=\"/wp-content/themes/kdn17/images/favicon.ico\" />\\n<link type=\"text/css\" rel=\"stylesheet\" href=\"/wp-content/themes/kdn17/style.css\" media=\"screen\" />\\n<script type=\"text/javascript\" src=\"/wp-content/themes/kdn17/js/jquery-1.9.1.min.js\"></script>\\n<script type=\"text/javascript\" src=\"/aps/kda_all.js?upd=210208\"></script>\\n<link rel=\"alternate\" type=\"application/rss+xml\" title=\"KDnuggets: AI, Analytics, Data Science, Machine Learning Feed\" href=\"/feed/\" />\\n\\n<script>\\n    (function(h,o,t,j,a,r){\\n        h.hj=h.hj||function(){(h.hj.q=h.hj.q||[]).push(arguments)};\\n        h._hjSettings={h'"
            ]
          },
          "metadata": {},
          "execution_count": 898
        }
      ]
    },
    {
      "cell_type": "markdown",
      "source": [
        "storing html content that we fetched using requests module is stored as a file"
      ],
      "metadata": {
        "id": "dj46jqXF7zGY"
      }
    },
    {
      "cell_type": "code",
      "source": [
        "with open('webpage.html', 'w') as f:\n",
        "  f.write(page_contents)"
      ],
      "metadata": {
        "id": "C38nin2X7tJF"
      },
      "execution_count": 899,
      "outputs": []
    },
    {
      "cell_type": "code",
      "source": [
        "! pip install beautifulsoup4 --upgrade"
      ],
      "metadata": {
        "id": "1nyhl_WU8ogQ"
      },
      "execution_count": 900,
      "outputs": []
    },
    {
      "cell_type": "code",
      "source": [
        "from bs4 import BeautifulSoup"
      ],
      "metadata": {
        "id": "1KT19r_V8ocw"
      },
      "execution_count": 901,
      "outputs": []
    },
    {
      "cell_type": "markdown",
      "source": [
        "Parsing the web page content using html.parser"
      ],
      "metadata": {
        "id": "CinxzMSPh6uz"
      }
    },
    {
      "cell_type": "code",
      "source": [
        "doc = BeautifulSoup(page_contents, 'html.parser')"
      ],
      "metadata": {
        "id": "e_LqeGUX8oZU"
      },
      "execution_count": 902,
      "outputs": []
    },
    {
      "cell_type": "markdown",
      "source": [
        "All 31 questions are inside h2 tag, so printing them"
      ],
      "metadata": {
        "id": "SEbar2j3izqc"
      }
    },
    {
      "cell_type": "code",
      "source": [
        "h2_tag = doc.find_all('h2')"
      ],
      "metadata": {
        "id": "K7Cw1yypBMl1"
      },
      "execution_count": 903,
      "outputs": []
    },
    {
      "cell_type": "code",
      "source": [
        "len(h2_tag)"
      ],
      "metadata": {
        "colab": {
          "base_uri": "https://localhost:8080/"
        },
        "id": "EGEcsTLmBRya",
        "outputId": "d8e87f6b-c312-4416-f352-0fa086e23870"
      },
      "execution_count": 904,
      "outputs": [
        {
          "output_type": "execute_result",
          "data": {
            "text/plain": [
              "31"
            ]
          },
          "metadata": {},
          "execution_count": 904
        }
      ]
    },
    {
      "cell_type": "code",
      "source": [
        "h2_tag[0].text"
      ],
      "metadata": {
        "colab": {
          "base_uri": "https://localhost:8080/",
          "height": 34
        },
        "id": "5BIno-7CREfK",
        "outputId": "ba642769-0dfd-4674-dd11-5c5ce13cf2c9"
      },
      "execution_count": 905,
      "outputs": [
        {
          "output_type": "execute_result",
          "data": {
            "application/vnd.google.colaboratory.intrinsic+json": {
              "type": "string"
            },
            "text/plain": [
              "'0. What is Machine Learning?'"
            ]
          },
          "metadata": {},
          "execution_count": 905
        }
      ]
    },
    {
      "cell_type": "markdown",
      "source": [
        "Printing just Questions(text)"
      ],
      "metadata": {
        "id": "JgjbUbkiiNHx"
      }
    },
    {
      "cell_type": "code",
      "source": [
        "ml_questions = []\n",
        "\n",
        "for tag in h2_tag:\n",
        "  ml_questions.append(tag.text)\n",
        "\n",
        "ml_questions"
      ],
      "metadata": {
        "colab": {
          "base_uri": "https://localhost:8080/"
        },
        "id": "n__w_xPjVafZ",
        "outputId": "5b5f268c-8f9f-4c47-e606-fd736d66dd3c"
      },
      "execution_count": 906,
      "outputs": [
        {
          "output_type": "execute_result",
          "data": {
            "text/plain": [
              "['0. What is Machine Learning?',\n",
              " '1. Explain the basic difference between Supervised, Unsupervised, and Semi-Supervised Machine Learning?',\n",
              " '2. What do you mean by Reinforcement Learning?',\n",
              " '3. What are the different types of data used in Machine Learning?',\n",
              " '4. Features vs. Labels?',\n",
              " '5. Explain the difference between Regression and Classification?',\n",
              " '6. What is Scikit-learn used for?',\n",
              " '7. What are a training set and test set in Machine Learning, and why are they important?',\n",
              " '8. Explain the stages of building a Machine Learning model?',\n",
              " '9. Overfitting vs. Underfitting?',\n",
              " '10. Explain the Confusion Matrix with respect to model evaluation?',\n",
              " '11. What is the difference between Type I and Type II errors?',\n",
              " '12. Differentiate Precision, Recall, Accuracy, and the F1 Score?',\n",
              " '13. What does the P-value mean?',\n",
              " '14. Explain how a ROC Curve works?',\n",
              " '15. How is KNN different from K-means clustering?',\n",
              " '16. What is ‘Naive’ in the Naive Bayes Theorem?',\n",
              " '17. How does Ensemble Learning work?',\n",
              " '18. What is bagging and boosting in Machine Learning?',\n",
              " '19. What is a bias-variance tradeoff?',\n",
              " '20. Explain L1 and L2 Regularization?',\n",
              " '21. What are the different ways to handle missing values in Machine Learning?',\n",
              " '22. What are the different techniques you can use to select\\xa0Features.',\n",
              " '23. What approaches can be followed to handle Categorical values in the dataset?',\n",
              " '24. What are Outliers, and how can we handle them in Machine Learning?',\n",
              " '25. What is feature scaling and transformation, and why are they necessary?',\n",
              " '26. How can you handle an imbalanced dataset?',\n",
              " '27. What is A/B Testing?',\n",
              " '28. What is Cross-Validation in Machine Learning?',\n",
              " '29. What is PCA, and how is it useful?',\n",
              " '30. How is a pipeline used in Machine Learning?']"
            ]
          },
          "metadata": {},
          "execution_count": 906
        }
      ]
    },
    {
      "cell_type": "code",
      "source": [
        "dict = {'Questions': ml_questions}"
      ],
      "metadata": {
        "id": "GBBXv9xMHuGD"
      },
      "execution_count": 908,
      "outputs": []
    },
    {
      "cell_type": "code",
      "source": [
        "question = pd.DataFrame(dict)"
      ],
      "metadata": {
        "id": "oHoIJqX7H0hl"
      },
      "execution_count": 909,
      "outputs": []
    },
    {
      "cell_type": "code",
      "source": [
        "question"
      ],
      "metadata": {
        "colab": {
          "base_uri": "https://localhost:8080/",
          "height": 1000
        },
        "id": "TFIpWO9ABkJ0",
        "outputId": "8c2d4295-0559-40d7-8cee-a3a18ad0916c"
      },
      "execution_count": 910,
      "outputs": [
        {
          "output_type": "execute_result",
          "data": {
            "text/html": [
              "<div>\n",
              "<style scoped>\n",
              "    .dataframe tbody tr th:only-of-type {\n",
              "        vertical-align: middle;\n",
              "    }\n",
              "\n",
              "    .dataframe tbody tr th {\n",
              "        vertical-align: top;\n",
              "    }\n",
              "\n",
              "    .dataframe thead th {\n",
              "        text-align: right;\n",
              "    }\n",
              "</style>\n",
              "<table border=\"1\" class=\"dataframe\">\n",
              "  <thead>\n",
              "    <tr style=\"text-align: right;\">\n",
              "      <th></th>\n",
              "      <th>Questions</th>\n",
              "    </tr>\n",
              "  </thead>\n",
              "  <tbody>\n",
              "    <tr>\n",
              "      <th>0</th>\n",
              "      <td>0. What is Machine Learning?</td>\n",
              "    </tr>\n",
              "    <tr>\n",
              "      <th>1</th>\n",
              "      <td>1. Explain the basic difference between Superv...</td>\n",
              "    </tr>\n",
              "    <tr>\n",
              "      <th>2</th>\n",
              "      <td>2. What do you mean by Reinforcement Learning?</td>\n",
              "    </tr>\n",
              "    <tr>\n",
              "      <th>3</th>\n",
              "      <td>3. What are the different types of data used i...</td>\n",
              "    </tr>\n",
              "    <tr>\n",
              "      <th>4</th>\n",
              "      <td>4. Features vs. Labels?</td>\n",
              "    </tr>\n",
              "    <tr>\n",
              "      <th>5</th>\n",
              "      <td>5. Explain the difference between Regression a...</td>\n",
              "    </tr>\n",
              "    <tr>\n",
              "      <th>6</th>\n",
              "      <td>6. What is Scikit-learn used for?</td>\n",
              "    </tr>\n",
              "    <tr>\n",
              "      <th>7</th>\n",
              "      <td>7. What are a training set and test set in Mac...</td>\n",
              "    </tr>\n",
              "    <tr>\n",
              "      <th>8</th>\n",
              "      <td>8. Explain the stages of building a Machine Le...</td>\n",
              "    </tr>\n",
              "    <tr>\n",
              "      <th>9</th>\n",
              "      <td>9. Overfitting vs. Underfitting?</td>\n",
              "    </tr>\n",
              "    <tr>\n",
              "      <th>10</th>\n",
              "      <td>10. Explain the Confusion Matrix with respect ...</td>\n",
              "    </tr>\n",
              "    <tr>\n",
              "      <th>11</th>\n",
              "      <td>11. What is the difference between Type I and ...</td>\n",
              "    </tr>\n",
              "    <tr>\n",
              "      <th>12</th>\n",
              "      <td>12. Differentiate Precision, Recall, Accuracy,...</td>\n",
              "    </tr>\n",
              "    <tr>\n",
              "      <th>13</th>\n",
              "      <td>13. What does the P-value mean?</td>\n",
              "    </tr>\n",
              "    <tr>\n",
              "      <th>14</th>\n",
              "      <td>14. Explain how a ROC Curve works?</td>\n",
              "    </tr>\n",
              "    <tr>\n",
              "      <th>15</th>\n",
              "      <td>15. How is KNN different from K-means clustering?</td>\n",
              "    </tr>\n",
              "    <tr>\n",
              "      <th>16</th>\n",
              "      <td>16. What is ‘Naive’ in the Naive Bayes Theorem?</td>\n",
              "    </tr>\n",
              "    <tr>\n",
              "      <th>17</th>\n",
              "      <td>17. How does Ensemble Learning work?</td>\n",
              "    </tr>\n",
              "    <tr>\n",
              "      <th>18</th>\n",
              "      <td>18. What is bagging and boosting in Machine Le...</td>\n",
              "    </tr>\n",
              "    <tr>\n",
              "      <th>19</th>\n",
              "      <td>19. What is a bias-variance tradeoff?</td>\n",
              "    </tr>\n",
              "    <tr>\n",
              "      <th>20</th>\n",
              "      <td>20. Explain L1 and L2 Regularization?</td>\n",
              "    </tr>\n",
              "    <tr>\n",
              "      <th>21</th>\n",
              "      <td>21. What are the different ways to handle miss...</td>\n",
              "    </tr>\n",
              "    <tr>\n",
              "      <th>22</th>\n",
              "      <td>22. What are the different techniques you can ...</td>\n",
              "    </tr>\n",
              "    <tr>\n",
              "      <th>23</th>\n",
              "      <td>23. What approaches can be followed to handle ...</td>\n",
              "    </tr>\n",
              "    <tr>\n",
              "      <th>24</th>\n",
              "      <td>24. What are Outliers, and how can we handle t...</td>\n",
              "    </tr>\n",
              "    <tr>\n",
              "      <th>25</th>\n",
              "      <td>25. What is feature scaling and transformation...</td>\n",
              "    </tr>\n",
              "    <tr>\n",
              "      <th>26</th>\n",
              "      <td>26. How can you handle an imbalanced dataset?</td>\n",
              "    </tr>\n",
              "    <tr>\n",
              "      <th>27</th>\n",
              "      <td>27. What is A/B Testing?</td>\n",
              "    </tr>\n",
              "    <tr>\n",
              "      <th>28</th>\n",
              "      <td>28. What is Cross-Validation in Machine Learning?</td>\n",
              "    </tr>\n",
              "    <tr>\n",
              "      <th>29</th>\n",
              "      <td>29. What is PCA, and how is it useful?</td>\n",
              "    </tr>\n",
              "    <tr>\n",
              "      <th>30</th>\n",
              "      <td>30. How is a pipeline used in Machine Learning?</td>\n",
              "    </tr>\n",
              "  </tbody>\n",
              "</table>\n",
              "</div>"
            ],
            "text/plain": [
              "                                            Questions\n",
              "0                        0. What is Machine Learning?\n",
              "1   1. Explain the basic difference between Superv...\n",
              "2      2. What do you mean by Reinforcement Learning?\n",
              "3   3. What are the different types of data used i...\n",
              "4                             4. Features vs. Labels?\n",
              "5   5. Explain the difference between Regression a...\n",
              "6                   6. What is Scikit-learn used for?\n",
              "7   7. What are a training set and test set in Mac...\n",
              "8   8. Explain the stages of building a Machine Le...\n",
              "9                    9. Overfitting vs. Underfitting?\n",
              "10  10. Explain the Confusion Matrix with respect ...\n",
              "11  11. What is the difference between Type I and ...\n",
              "12  12. Differentiate Precision, Recall, Accuracy,...\n",
              "13                    13. What does the P-value mean?\n",
              "14                 14. Explain how a ROC Curve works?\n",
              "15  15. How is KNN different from K-means clustering?\n",
              "16    16. What is ‘Naive’ in the Naive Bayes Theorem?\n",
              "17               17. How does Ensemble Learning work?\n",
              "18  18. What is bagging and boosting in Machine Le...\n",
              "19              19. What is a bias-variance tradeoff?\n",
              "20              20. Explain L1 and L2 Regularization?\n",
              "21  21. What are the different ways to handle miss...\n",
              "22  22. What are the different techniques you can ...\n",
              "23  23. What approaches can be followed to handle ...\n",
              "24  24. What are Outliers, and how can we handle t...\n",
              "25  25. What is feature scaling and transformation...\n",
              "26      26. How can you handle an imbalanced dataset?\n",
              "27                           27. What is A/B Testing?\n",
              "28  28. What is Cross-Validation in Machine Learning?\n",
              "29             29. What is PCA, and how is it useful?\n",
              "30    30. How is a pipeline used in Machine Learning?"
            ]
          },
          "metadata": {},
          "execution_count": 910
        }
      ]
    },
    {
      "cell_type": "markdown",
      "source": [
        "All the answers are inside p tag, so printing all the 88 p tags."
      ],
      "metadata": {
        "id": "a_JkOYv0icHu"
      }
    },
    {
      "cell_type": "code",
      "source": [
        "p_tag = doc.find_all('p')"
      ],
      "metadata": {
        "id": "Fw181DBW9IBu"
      },
      "execution_count": 911,
      "outputs": []
    },
    {
      "cell_type": "code",
      "source": [
        "len(p_tag)"
      ],
      "metadata": {
        "colab": {
          "base_uri": "https://localhost:8080/"
        },
        "id": "Oavae2Gx9qXR",
        "outputId": "9a55d404-ffbe-48ac-fd0f-a191362e616a"
      },
      "execution_count": 912,
      "outputs": [
        {
          "output_type": "execute_result",
          "data": {
            "text/plain": [
              "88"
            ]
          },
          "metadata": {},
          "execution_count": 912
        }
      ]
    },
    {
      "cell_type": "code",
      "source": [
        "p_tag[5:81] "
      ],
      "metadata": {
        "colab": {
          "base_uri": "https://localhost:8080/"
        },
        "id": "Bc8hsqq1WRjN",
        "outputId": "cbebc5a9-5225-4ca4-b28a-c686b91edd3b"
      },
      "execution_count": 913,
      "outputs": [
        {
          "output_type": "execute_result",
          "data": {
            "text/plain": [
              "[<p data-selectable-paragraph=\"\"><strong>Ans: </strong>Machine learning is the science of getting computers to act in a real-time situation without being explicitly programmed. It is an application of artificial intelligence that provides systems to automatically learn and improve from previous experience.It allows computers to learn and adapt to new data without any kind of human intervention.</p>,\n",
              " <p data-selectable-paragraph=\"\"><strong>Ans: </strong></p>,\n",
              " <p data-selectable-paragraph=\"\"><strong>Supervised Learning: </strong>A model is trained on the labeled data, and then it makes predictions based on the previously labeled data. It requires a supervisor (labels) to train the data. E.g., text classification.</p>,\n",
              " <p data-selectable-paragraph=\"\"><strong>Unsupervised Learning</strong>: A model is trained on unlabeled data. The model tries to find patterns, relationships in the data and classify the classes according to that. We don’t have any labeled data.</p>,\n",
              " <p data-selectable-paragraph=\"\"><strong>Semi-Supervised Learning</strong>: It is a type of machine learning that uses some amount of labeled data and a large amount of unlabeled data to train the model. The goal of this is to classify some of the unlabeled data with the help of labeled data.</p>,\n",
              " <p data-selectable-paragraph=\"\"><strong>Ans</strong>: reinforcement learning is an area of machine learning in which the model is trained according to the rewards given to it based on its previous actions in the environment. There is an agent whose task is to give rewards and also to maximize the rewards. If the model performs the task correctly, it gets a +1 reward, but if it does a task wrong, then it gets a -1 reward.</p>,\n",
              " <p data-selectable-paragraph=\"\"><strong>Applications</strong>: Self-driven cars, automatic parking, puzzle solver, and more.</p>,\n",
              " <p data-selectable-paragraph=\"\"><strong>Ans: </strong>There Are Two Types of Data. Structured and Unstructured Data.<strong><br>\n",
              " </br></strong></p>,\n",
              " <p data-selectable-paragraph=\"\">1. <strong>Structured Data: </strong>This type of data is predefined, labeled, and well-formatted before being stored in a data storage. Example: Student Records Table.<br>\n",
              " 2. <strong>Unstructured Data</strong>: This Type of data is in native format, and it's not processed until it is used. Example: Text, Audio, Video, Emails, etc.</br></p>,\n",
              " <p data-selectable-paragraph=\"\"><strong>Ans: </strong>Features are the input information. On the other hand, labels are the output information for a mode.<br>\n",
              " Features are used to predict something, and labels are the ones which we predict. Also, features are named as <strong>independent variables</strong>, and labels are <strong>dependent variables</strong>.</br></p>,\n",
              " <p data-selectable-paragraph=\"\"><strong>Ans: </strong></p>,\n",
              " <p data-selectable-paragraph=\"\"><strong>Regression: </strong>regression is a process of finding the correlation between the dependent and independent variables. It is helpful in the prediction of <em>continuous variables</em>, such as in the prediction of the stock market, house prices, etc. In regression, our task is to find the best suitable line that can predict the output accurately.</p>,\n",
              " <p data-selectable-paragraph=\"\"><strong>Classification</strong>: Classification is the process of finding a function that helps in dividing the data into different classes. These are mainly used in discrete data. In classification, our aim is to find the decision boundary which can divide the dataset into different classes.</p>,\n",
              " <p><img class=\"aligncenter size-large\" src=\"https://miro.medium.com/max/875/1*F9CmvLlATb3_y_peDTjtMg.png\" width=\"90%\"/></p>,\n",
              " <p style=\"text-align: center;\"><em>Image By Author.</em></p>,\n",
              " <p data-selectable-paragraph=\"\"><strong>Ans: </strong>Scikit-learn is a robust library in python used for machine learning tasks. The Scikit-learn library contains a lot of efficient tools and classes for machine learning and statistical modeling, including classification, regression, clustering, feature selection, parameter tuning, etc. It is an efficient tool for predictive analysis. It provides all the major algorithms in the form of classes and functions. In python, it is written as <em>sklearn</em>.</p>,\n",
              " <p data-selectable-paragraph=\"\"><strong>Ans: </strong>The Training Set is the set given to the model for training, analyzing, and learning. The Test Set is the set that is used for testing the model locally before using it in a real application. The Training Set is Labeled data, and the Test Set has no labels.</p>,\n",
              " <p data-selectable-paragraph=\"\">It is important to divide the dataset into training and test sets so that the model will not go in overfitting or underfitting conditions. Also, it is a great method to evaluate the model and understand the characteristics of the data. In most cases, the split is 70/30, meaning 70% of the full data set for training and 30% for testing.</p>,\n",
              " <p data-selectable-paragraph=\"\"><strong>Ans: </strong></p>,\n",
              " <p data-selectable-paragraph=\"\"><strong>Data Collection: </strong>It is the first stage of any kind of machine learning model. In this stage, the appropriate data is decided, and then it is collected using some algorithm or manually.</p>,\n",
              " <p data-selectable-paragraph=\"\"><strong>Data Processing</strong>: In this stage, the data that we have collected in the first stage is preprocessed by handling all the null values, categorical data, etc. Also, in the same stage, the data features are made in the same range if they are not already.</p>,\n",
              " <p data-selectable-paragraph=\"\"><strong>Model Building</strong>: In this stage, first, we choose appropriate algorithms to create the model, and then, with the help of sklearn, for example, the model is built.</p>,\n",
              " <p data-selectable-paragraph=\"\"><strong>Model Evaluation</strong>: After the model is created, it is evaluated using some techniques of statistics like accuracy score, z score, accuracy matrix, and more.</p>,\n",
              " <p data-selectable-paragraph=\"\"><strong>Model Saving and Testing</strong>: After a successful evaluation of the model, it is saved for future use, and real-time testing is done using it.</p>,\n",
              " <p data-selectable-paragraph=\"\"><strong>Ans</strong>:</p>,\n",
              " <p data-selectable-paragraph=\"\"><strong>Overfitting</strong>: It is a condition that occurs when model performance on training data is good but on test data is bad. Example: Model accuracy on the train is 94% and on test 56%. It is a modeling error that occurs when a function is too closely fit a limited set of data points. To avoid overfitting, we can collect more data, use ensembling methods or choose the right algorithm that fits the data best.</p>,\n",
              " <p data-selectable-paragraph=\"\"><strong>Underfitting</strong>: Model performance is poor on training data as well as test data. In other words, this type of model failed to generalize the new data points.</p>,\n",
              " <p data-selectable-paragraph=\"\">“Machine intelligence is the last invention that humanity will ever need to make.” ~ <a href=\"http://www.supplychaintoday.com/artificial-intelligence-machine-learning-quotes-top-minds/\" rel=\"noopener\" target=\"_blank\">Nick Bostrom</a></p>,\n",
              " <p data-selectable-paragraph=\"\"><strong>Ans</strong>: The Confusion Matrix is a measurement table that is used to measure the performance of a machine learning algorithm. It is a table of different combinations of predicted and actual values. It is useful for measuring recall, precision, AUC-ROC curve, and accuracy. The diagonal of the matrix contains all the true or correct data. The size of the matrix depends upon the classes in the dependent variable. The matrix size is equal to N*N, where N is the number of classes in the output of the dependent variable.</p>,\n",
              " <p><img class=\"aligncenter size-large\" height=\"267\" loading=\"lazy\" src=\"https://miro.medium.com/max/445/0*FL0-1tc0bgCzn4ao.png\" width=\"356\"/></p>,\n",
              " <p style=\"text-align: center;\"><em><a href=\"https://towardsdatascience.com/accuracy-precision-recall-or-f1-331fb37c5cb9\" rel=\"noopener\" target=\"_blank\">Image source.</a></em></p>,\n",
              " <p data-selectable-paragraph=\"\"><strong>Ans</strong>:</p>,\n",
              " <p data-selectable-paragraph=\"\"><strong>Type I Error (False Positive Error)</strong>: It occurs when the null hypothesis is true, but it gets rejected, meaning it claims something has happened when it hasn’t.</p>,\n",
              " <p data-selectable-paragraph=\"\"><strong>Type II Error (False Negative Error)</strong>: It occurs when the null hypothesis gets accepted when it's not true, meaning it claims nothing happened when something has happened.</p>,\n",
              " <p data-selectable-paragraph=\"\"><strong>Example</strong>: Let’s take the example of a scenario in which a null hypothesis is a person who is innocent. Convicting an innocent person is a Type I error. On the other hand, letting a guilty person go free is a Type II error.</p>,\n",
              " <p data-selectable-paragraph=\"\"><strong>Ans</strong>:</p>,\n",
              " <p data-selectable-paragraph=\"\"><strong>Precision </strong>is the ratio of correctly predicted positive observation and total predicted positive observation. It shows how precise our model is.</p>,\n",
              " <p data-selectable-paragraph=\"\"><strong>Recall </strong>is the ratio of the correct predicted positive observation and the total observation in the class.</p>,\n",
              " <p data-selectable-paragraph=\"\"><strong>F1-Score </strong>is the weighted average of recall and precision.</p>,\n",
              " <p data-selectable-paragraph=\"\"><strong>Accuracy </strong>is the ratio of correctly predicted positive observations to the total positive observations.</p>,\n",
              " <p data-selectable-paragraph=\"\"><strong>Ans</strong>: P-Value is the determination of a result when the null hypothesis is assumed to be true. If the p-value is very small (&lt;0.05), then our assumption that the null hypothesis is correct is most likely to be false. Thus we reject the null hypothesis.</p>,\n",
              " <p data-selectable-paragraph=\"\"><strong>Ans</strong>: A ROC curve is a graph showing the performance of a classification model at different thresholds. It uses two curve plot parameters, True positive rate (sensitivity) and False positive rate (Specificity).</p>,\n",
              " <p data-selectable-paragraph=\"\"><strong>Ans</strong>: KNN is a supervised machine learning technique that is used for classification or regression problems. In KNN, the <em>K</em> represents the number of nearest neighbors used to predict the dependent variable.</p>,\n",
              " <p data-selectable-paragraph=\"\">K-means clustering is an unsupervised machine learning algorithm that is used to divide the data into different clusters based on <em>K</em>, the number of clusters, and centroids.</p>,\n",
              " <p data-selectable-paragraph=\"\"><strong>Ans</strong>: Naive Bayes classifier assumes that all the input variables are independent of each other, meaning they don’t have any relationship between them, which is actually an unrealistic assumption for real data.</p>,\n",
              " <p data-selectable-paragraph=\"\">Let’s suppose a dataset that contains information about fruits and detects whether the fruit is an apple or not. A sample of this data contains a fruit that is red, round, and about 4'' in diameter. Even if all these features depend on each other or upon the existence of the other feature, a Naive Bayes classifier will always consider them as independent contributors for the prediction of the fruit.</p>,\n",
              " <p data-selectable-paragraph=\"\"><strong>Ans: </strong>Ensemble Learning is a technique in which the predictions or results of multiple models are combined to achieve better performance. Let’s take an example of if you buy a car, you generally go for research on the web to search for reviews and features of different cars. In the end, after combining all the reviews, you create your own review of that car and decide whether you want to purchase it or not. The review you create is the better version of all the reviews you read because it contains the information from all the reviews.</p>,\n",
              " <p>Ensemble learning works the same: the predictions from many algorithms are used to create a better model.</p>,\n",
              " <p data-selectable-paragraph=\"\">Ensemble Learning can be done in two ways. One is to combine different algorithm predictions to generate a new high-accuracy prediction. Another way is to use a single algorithm multiple times and, in the end, use each model prediction to generate a better model with good accuracy.</p>,\n",
              " <p data-selectable-paragraph=\"\">“Don’t Let Yesterday Take Up Too Much Of Today.” ~ Will Rogers</p>,\n",
              " <p data-selectable-paragraph=\"\"><strong>Ans</strong>:<strong> </strong></p>,\n",
              " <p data-selectable-paragraph=\"\"><strong>Bagging </strong>is a method of combining predictions of the same type, meaning from the same algorithm. Ex: Random Forest. In this, each model is built independently with equal weight given to them. It reduces the overfitting problem. It also decreases the variance.</p>,\n",
              " <p data-selectable-paragraph=\"\"><strong>Boosting </strong>is a way of combining predictions belongs to different algorithms. Ex: Gradient boosting. The new model is highly influenced by the performance of the previously built models. It reduces the bias.</p>,\n",
              " <p data-selectable-paragraph=\"\"><strong>Ans</strong>: Bias is the difference between the average prediction of the model and the correct value. On the other hand, variance is the variability of a data point that shows the spread of the data.</p>,\n",
              " <p data-selectable-paragraph=\"\">If our model has fewer parameters, then it may have high bias and low variance. Because of that, it will be consistent but inaccurate on average. A model with a large number of parameters may have low bias and high variance models, which are mostly accurate on average but inconsistent in nature. A good model always has low bias and low variance.</p>,\n",
              " <p data-selectable-paragraph=\"\"><strong>Ans</strong>: A regression model that uses L1 Regularization is called <strong>Lasso Regression</strong><em><strong>, </strong></em>and the Model which uses L2 Regularization is called <strong>Ridge Regression</strong><em><strong>.</strong></em></p>,\n",
              " <p data-selectable-paragraph=\"\"><strong>Ans</strong>:</p>,\n",
              " <p data-selectable-paragraph=\"\"><em>1.</em> Replacing the missing value with the mean, median, or mode.<br>\n",
              " <em>2.</em> Replacing the missing values with a random value.<br>\n",
              " <em>3.</em> Taking all the NaN values and using them as a New Feature.<br>\n",
              " <em>4.</em> Replacing NaN values with the third deviation value.<br>\n",
              " <em>5.</em> Replacing NaN with Least or Last Outlier<br/>\n",
              " <em>6.</em> Replacing NaN with the most frequent Category <em>(Categorical Values)</em><strong><em><br/>\n",
              " </em></strong><em>7.<strong> </strong></em>Treating the missing values as a new category<br/>\n",
              " <em>8. </em>Apply a classifier to predict NaN values<br/>\n",
              " <em>9.</em> Drop Values</br></br></br></br></p>,\n",
              " <p data-selectable-paragraph=\"\">Learn more: <a href=\"https://pub.towardsai.net/9-ways-to-handle-missing-values-in-machine-learning-1bbda345699a\" rel=\"noopener\" target=\"_blank\">9 Ways to Handle Missing Values in Machine Learning</a></p>,\n",
              " <p data-selectable-paragraph=\"\"><strong>Ans</strong>:</p>,\n",
              " <p data-selectable-paragraph=\"\">“Torture the data, and it will confess to anything.” ~ Ronald Coase</p>,\n",
              " <p data-selectable-paragraph=\"\"><strong>Ans</strong>: To Handle Categorical Values We Can Perform Encoding That Basically converts the categorical data into numerical data.</p>,\n",
              " <p>Learn more: <a href=\"https://pub.towardsai.net/different-approaches-to-handle-categorical-values-a2e35fbd6128\" rel=\"noopener\" target=\"_blank\">Different Approaches to handle categorical values</a></p>,\n",
              " <p data-selectable-paragraph=\"\"><strong>Ans</strong>: Outliers are some unusual data points that differ from the rest of the data points or samples in the dataset. They can make a high impact on the model performance. To handle the outliers, we can do three things.</p>,\n",
              " <p data-selectable-paragraph=\"\"><strong>Ans</strong>: Feature transformation is a technique to transform features from one representation to another. On the other hand, feature scaling is a technique of converting all the values of a feature in the same range.</p>,\n",
              " <p data-selectable-paragraph=\"\">Sometimes in our dataset, we have columns that have different units — like one column can be age while the other can be the salary of the person. In this scenario, the age column ranges from 0 to 100, and the salary column ranges from 0 to 10000. There is such a difference between the values of these columns, so because of that, the column having larger values will influence the output more. That will result in a bad-performing model. Thus we need to perform feature scaling and transformation.</p>,\n",
              " <p data-selectable-paragraph=\"\"><strong>Ans</strong>: In imbalanced data, samples in each class will have a huge difference between them. For example, one class may have 1000 samples. On the other hand, another class may only have 200–300 samples. In such scenarios, before doing anything, we first need to handle the imbalance of the data. There are many techniques we can follow.</p>,\n",
              " <p data-selectable-paragraph=\"\"><strong>Ans</strong>: A/B Testing is a statistical hypothesis test for randomizing experiments with two variables. It is usually used to compare two models that used different predictor variables in order to check which fits the data best.</p>,\n",
              " <p data-selectable-paragraph=\"\">In a real-world scenario, suppose you create two models that recommend products for users. A/B testing can be used to compare these two models to check which one gives the best recommendations.</p>,\n",
              " <p data-selectable-paragraph=\"\"><strong>Ans</strong>: It is a technique for increasing the model performance by feeding multiple sample data from the dataset. The sampling process is done by breaking the data into smaller parts that have the same number of rows. Out of all the parts, one is randomly selected for the test and another one for train sets. It consists of the following techniques:</p>,\n",
              " <p data-selectable-paragraph=\"\"><strong>Ans</strong>: PCA (Principal Component Analysis) is a dimensionality-reduction method that is used to reduce the dimension of the large data sets.</p>,\n",
              " <p data-selectable-paragraph=\"\">In real life, we usually come across datasets that have large dimensions, and because of that, visualizing and analyzing those datasets become difficult. PCA can help to reduce the dimensionality of the dataset by removing unnecessary dimensions from the dataset.</p>,\n",
              " <p data-selectable-paragraph=\"\">“The More You Learn, The More You Earn.” ~ Warren Buffett</p>,\n",
              " <p data-selectable-paragraph=\"\"><strong>Ans</strong>: A pipeline is used to automate machine learning workflows. A pipeline consists of several steps to train a model. These pipelines are iterative, so every step is repeated many times to improve the accuracy of the model.</p>,\n",
              " <p data-selectable-paragraph=\"\">The pipeline is mainly used in NLP. One part of the pipelines doing the cleaning and vectorization one the other hand another part of the pipeline doing the model training and validation.</p>,\n",
              " <p><a href=\"https://medium.com/pythoneers/30-basic-machine-learning-questions-answered-692acd10841f\" rel=\"noopener\" target=\"_blank\">Original</a>. Reposted with permission.</p>]"
            ]
          },
          "metadata": {},
          "execution_count": 913
        }
      ]
    },
    {
      "cell_type": "markdown",
      "source": [
        "Part of some answers is present inside li tag too."
      ],
      "metadata": {
        "id": "EtYN4k3IklyW"
      }
    },
    {
      "cell_type": "code",
      "source": [
        "li_tag = doc.find_all('li')\n",
        "len(li_tag)"
      ],
      "metadata": {
        "colab": {
          "base_uri": "https://localhost:8080/"
        },
        "id": "hLuJKmxokg5N",
        "outputId": "81289646-c035-4c56-a133-233843714d4b"
      },
      "execution_count": 981,
      "outputs": [
        {
          "output_type": "execute_result",
          "data": {
            "text/plain": [
              "87"
            ]
          },
          "metadata": {},
          "execution_count": 981
        }
      ]
    },
    {
      "cell_type": "code",
      "source": [
        "li_answer = []\n",
        "\n",
        "for li in li_tag:\n",
        "  li_answer.append(li.text.strip())\n",
        "\n",
        "li_answer"
      ],
      "metadata": {
        "colab": {
          "base_uri": "https://localhost:8080/"
        },
        "id": "hlS_B1t5kjZn",
        "outputId": "865fa9cb-91d1-46d1-c3aa-a3c4fddf1ab6"
      },
      "execution_count": 982,
      "outputs": [
        {
          "output_type": "execute_result",
          "data": {
            "text/plain": [
              "['Blog',\n",
              " 'Opinions',\n",
              " 'Tutorials',\n",
              " 'Top stories',\n",
              " 'Courses',\n",
              " 'Datasets',\n",
              " 'Education: Online',\n",
              " 'Certificates',\n",
              " 'Events / Meetings',\n",
              " 'Jobs',\n",
              " 'Software',\n",
              " 'Webinars',\n",
              " 'True Positive: Actual Value = Predicted Value when o/p is 1',\n",
              " 'True Negative : Actual Value != Predicted Value when o/p is 0',\n",
              " 'False Positive: Type I Error',\n",
              " 'False Negative: Type II Error',\n",
              " 'Precision = TP/TP+FP',\n",
              " 'Recall = TP/TP+FN',\n",
              " 'F1-Score = 2*(Recall * Precision) / (Recall + Precision)',\n",
              " 'Accuracy = TP+TN/TP+TN+FP+FN',\n",
              " 'The closer the curve follows the left-hand border and then the top border, the more accurate the test is.',\n",
              " 'The closer the curve to a 45 degree diagonal of ROC Space, the less accurate the test is.',\n",
              " 'L1 regularization adds the penalty term in the cost function by adding the absolute value of weight (Wj), while L2 regularization adds the squared value of weights (Wj) in the cost function.',\n",
              " 'One more difference between both of them is that L1 regularization tries to estimate the median of the data while L2 regularization tries to estimate the mean of the data.',\n",
              " 'L1 regularization helps in eliminating the features that are not important.',\n",
              " 'Univariate Selection:\\xa0In this method, we used SelectKBest Algo to find the feature score with respect to the dependent column.',\n",
              " 'Extra Tree Classifier: This technique gives you a score for each feature of the data. The higher the score, the more important and relevant that feature is. You can import the class from\\xa0sklean.ensemble.',\n",
              " 'Correlation Matrix: A table that displays the correlation of all the features against each other. Each cell in the table displays a correlation between two variables. We can use a threshold value to select the less correlated variables out of the dataset.',\n",
              " 'Mutual Information: It is a classifier that generates the mutual information of each feature with respect to the dependent feature. The higher the information is relevant it is.',\n",
              " 'Nomial Encoding:\\xa0When data do not have an inherent order.\\n1 One Hot Encoding\\n1.2 One Hot Encoding with many features\\n1.3 Mean Encoding',\n",
              " 'Ordinal Encoding:\\xa0When data have an inherent order.\\n2 Label Encoding\\n2.2 Target Guided Encoding',\n",
              " 'Count Encoding',\n",
              " 'Remove all the outliers',\n",
              " 'Replace the outlier values with a suitable value (Like 3rd deviation)',\n",
              " 'Use a Different algorithm that is not sensitive to outliers.',\n",
              " 'Collect more data.',\n",
              " 'Apply oversampling when we have a large amount of data',\n",
              " 'Apply undersampling',\n",
              " 'Try some other algorithm',\n",
              " 'k-fold cross-validation',\n",
              " 'Holdout method',\n",
              " 'Stratified k-fold cross-validation',\n",
              " 'Leave p-out cross-validation',\n",
              " 'A Brief Introduction to the Concept of Data',\n",
              " 'Top Python Data Science Interview Questions',\n",
              " '20 Core Data Science Concepts for Beginners',\n",
              " 'Why Machine Learning Engineers are Replacing Data Scientists\\n19 Data Science Project Ideas for Beginners\\nMost Common SQL Mistakes on Data Science Interviews\\nHow to Get Certified as a Data Scientist\\nDon’t Waste Time Building Your Data Science Network\\n5 Practical Data Science Projects That Will Help You Solve Real Business Problems for 2022\\nData Scientist Career Path from Novice to First Job\\nDesign Patterns for Machine Learning Pipelines\\nWhat Google Recommends You do Before Taking Their Machine Learning or Data Science Course\\nHow I Redesigned over 100 ETL into ELT Data Pipelines',\n",
              " '19 Data Science Project Ideas for Beginners\\nMost Common SQL Mistakes on Data Science Interviews\\nHow to Get Certified as a Data Scientist\\nDon’t Waste Time Building Your Data Science Network\\n5 Practical Data Science Projects That Will Help You Solve Real Business Problems for 2022\\nData Scientist Career Path from Novice to First Job\\nDesign Patterns for Machine Learning Pipelines\\nWhat Google Recommends You do Before Taking Their Machine Learning or Data Science Course\\nHow I Redesigned over 100 ETL into ELT Data Pipelines',\n",
              " 'Most Common SQL Mistakes on Data Science Interviews\\nHow to Get Certified as a Data Scientist\\nDon’t Waste Time Building Your Data Science Network\\n5 Practical Data Science Projects That Will Help You Solve Real Business Problems for 2022\\nData Scientist Career Path from Novice to First Job\\nDesign Patterns for Machine Learning Pipelines\\nWhat Google Recommends You do Before Taking Their Machine Learning or Data Science Course\\nHow I Redesigned over 100 ETL into ELT Data Pipelines',\n",
              " 'How to Get Certified as a Data Scientist\\nDon’t Waste Time Building Your Data Science Network\\n5 Practical Data Science Projects That Will Help You Solve Real Business Problems for 2022\\nData Scientist Career Path from Novice to First Job\\nDesign Patterns for Machine Learning Pipelines\\nWhat Google Recommends You do Before Taking Their Machine Learning or Data Science Course\\nHow I Redesigned over 100 ETL into ELT Data Pipelines',\n",
              " 'Don’t Waste Time Building Your Data Science Network\\n5 Practical Data Science Projects That Will Help You Solve Real Business Problems for 2022\\nData Scientist Career Path from Novice to First Job\\nDesign Patterns for Machine Learning Pipelines\\nWhat Google Recommends You do Before Taking Their Machine Learning or Data Science Course\\nHow I Redesigned over 100 ETL into ELT Data Pipelines',\n",
              " '5 Practical Data Science Projects That Will Help You Solve Real Business Problems for 2022\\nData Scientist Career Path from Novice to First Job\\nDesign Patterns for Machine Learning Pipelines\\nWhat Google Recommends You do Before Taking Their Machine Learning or Data Science Course\\nHow I Redesigned over 100 ETL into ELT Data Pipelines',\n",
              " 'Data Scientist Career Path from Novice to First Job\\nDesign Patterns for Machine Learning Pipelines\\nWhat Google Recommends You do Before Taking Their Machine Learning or Data Science Course\\nHow I Redesigned over 100 ETL into ELT Data Pipelines',\n",
              " 'Design Patterns for Machine Learning Pipelines\\nWhat Google Recommends You do Before Taking Their Machine Learning or Data Science Course\\nHow I Redesigned over 100 ETL into ELT Data Pipelines',\n",
              " 'What Google Recommends You do Before Taking Their Machine Learning or Data Science Course\\nHow I Redesigned over 100 ETL into ELT Data Pipelines',\n",
              " 'How I Redesigned over 100 ETL into ELT Data Pipelines',\n",
              " 'Stop Learning Data Science to Find Purpose and Find Pur... Main 2021 Developments and Key 2022 Trends in AI, Data ... Inside DeepMind’s New Efforts to Use Deep Learning to... Deep Neural Networks Don’t Lead Us Towards AGI Analyzing Scientific Articles with fine-tuned SciBERT N... Should You Become a Freelance Artificial Intelligence E...',\n",
              " 'Main 2021 Developments and Key 2022 Trends in AI, Data ... Inside DeepMind’s New Efforts to Use Deep Learning to... Deep Neural Networks Don’t Lead Us Towards AGI Analyzing Scientific Articles with fine-tuned SciBERT N... Should You Become a Freelance Artificial Intelligence E...',\n",
              " 'Inside DeepMind’s New Efforts to Use Deep Learning to... Deep Neural Networks Don’t Lead Us Towards AGI Analyzing Scientific Articles with fine-tuned SciBERT N... Should You Become a Freelance Artificial Intelligence E...',\n",
              " 'Deep Neural Networks Don’t Lead Us Towards AGI Analyzing Scientific Articles with fine-tuned SciBERT N... Should You Become a Freelance Artificial Intelligence E...',\n",
              " 'Analyzing Scientific Articles with fine-tuned SciBERT N... Should You Become a Freelance Artificial Intelligence E...',\n",
              " 'Should You Become a Freelance Artificial Intelligence E...',\n",
              " 'Why Machine Learning Engineers are Replacing Data Scientists\\nHow to Get Certified as a Data Scientist\\n5 Practical Data Science Projects That Will Help You Solve Real Business Problems for 2022\\nMost Common SQL Mistakes on Data Science Interviews\\n19 Data Science Project Ideas for Beginners',\n",
              " 'How to Get Certified as a Data Scientist\\n5 Practical Data Science Projects That Will Help You Solve Real Business Problems for 2022\\nMost Common SQL Mistakes on Data Science Interviews\\n19 Data Science Project Ideas for Beginners',\n",
              " '5 Practical Data Science Projects That Will Help You Solve Real Business Problems for 2022\\nMost Common SQL Mistakes on Data Science Interviews\\n19 Data Science Project Ideas for Beginners',\n",
              " 'Most Common SQL Mistakes on Data Science Interviews\\n19 Data Science Project Ideas for Beginners',\n",
              " '19 Data Science Project Ideas for Beginners',\n",
              " 'Should You Become a Freelance Artificial Intelligence Engineer? AI, Analytics, Machine Learning, Data Science, Deep Learning R... Building a solid data team How Data Scientists Can Get the Ear of CFOs (And Why You Want It) KDnuggets 21:n46, Dec 8: How to Get Certified as a Data Sci... Advance your data science career to the next level Introduction to Binary Classification with PyCaret A $9B AI Failure, Examined Using Datawig, an AWS Deep Learning Library for Missing Value ... 10 Simple Things to Try Before Neural Networks Top Stories, Nov 29 – Dec 5: Why Machine Learning Engine... What Does a Data Scientist Do? A Beginner’s Guide to End to End Machine Learning Meta-Learning for Keyphrase Extraction How to Get Certified as a Data Scientist [Silver Blog] Using PyCaret’s New Time Series Module Enhance Your Data Mining Career Avoid These Mistakes with Time Series Forecasting 2021: A Year Full of Amazing AI papers — A Review How to Use Permutation Tests',\n",
              " 'AI, Analytics, Machine Learning, Data Science, Deep Learning R... Building a solid data team How Data Scientists Can Get the Ear of CFOs (And Why You Want It) KDnuggets 21:n46, Dec 8: How to Get Certified as a Data Sci... Advance your data science career to the next level Introduction to Binary Classification with PyCaret A $9B AI Failure, Examined Using Datawig, an AWS Deep Learning Library for Missing Value ... 10 Simple Things to Try Before Neural Networks Top Stories, Nov 29 – Dec 5: Why Machine Learning Engine... What Does a Data Scientist Do? A Beginner’s Guide to End to End Machine Learning Meta-Learning for Keyphrase Extraction How to Get Certified as a Data Scientist [Silver Blog] Using PyCaret’s New Time Series Module Enhance Your Data Mining Career Avoid These Mistakes with Time Series Forecasting 2021: A Year Full of Amazing AI papers — A Review How to Use Permutation Tests',\n",
              " 'Building a solid data team How Data Scientists Can Get the Ear of CFOs (And Why You Want It) KDnuggets 21:n46, Dec 8: How to Get Certified as a Data Sci... Advance your data science career to the next level Introduction to Binary Classification with PyCaret A $9B AI Failure, Examined Using Datawig, an AWS Deep Learning Library for Missing Value ... 10 Simple Things to Try Before Neural Networks Top Stories, Nov 29 – Dec 5: Why Machine Learning Engine... What Does a Data Scientist Do? A Beginner’s Guide to End to End Machine Learning Meta-Learning for Keyphrase Extraction How to Get Certified as a Data Scientist [Silver Blog] Using PyCaret’s New Time Series Module Enhance Your Data Mining Career Avoid These Mistakes with Time Series Forecasting 2021: A Year Full of Amazing AI papers — A Review How to Use Permutation Tests',\n",
              " 'How Data Scientists Can Get the Ear of CFOs (And Why You Want It) KDnuggets 21:n46, Dec 8: How to Get Certified as a Data Sci... Advance your data science career to the next level Introduction to Binary Classification with PyCaret A $9B AI Failure, Examined Using Datawig, an AWS Deep Learning Library for Missing Value ... 10 Simple Things to Try Before Neural Networks Top Stories, Nov 29 – Dec 5: Why Machine Learning Engine... What Does a Data Scientist Do? A Beginner’s Guide to End to End Machine Learning Meta-Learning for Keyphrase Extraction How to Get Certified as a Data Scientist [Silver Blog] Using PyCaret’s New Time Series Module Enhance Your Data Mining Career Avoid These Mistakes with Time Series Forecasting 2021: A Year Full of Amazing AI papers — A Review How to Use Permutation Tests',\n",
              " 'KDnuggets 21:n46, Dec 8: How to Get Certified as a Data Sci... Advance your data science career to the next level Introduction to Binary Classification with PyCaret A $9B AI Failure, Examined Using Datawig, an AWS Deep Learning Library for Missing Value ... 10 Simple Things to Try Before Neural Networks Top Stories, Nov 29 – Dec 5: Why Machine Learning Engine... What Does a Data Scientist Do? A Beginner’s Guide to End to End Machine Learning Meta-Learning for Keyphrase Extraction How to Get Certified as a Data Scientist [Silver Blog] Using PyCaret’s New Time Series Module Enhance Your Data Mining Career Avoid These Mistakes with Time Series Forecasting 2021: A Year Full of Amazing AI papers — A Review How to Use Permutation Tests',\n",
              " 'Advance your data science career to the next level Introduction to Binary Classification with PyCaret A $9B AI Failure, Examined Using Datawig, an AWS Deep Learning Library for Missing Value ... 10 Simple Things to Try Before Neural Networks Top Stories, Nov 29 – Dec 5: Why Machine Learning Engine... What Does a Data Scientist Do? A Beginner’s Guide to End to End Machine Learning Meta-Learning for Keyphrase Extraction How to Get Certified as a Data Scientist [Silver Blog] Using PyCaret’s New Time Series Module Enhance Your Data Mining Career Avoid These Mistakes with Time Series Forecasting 2021: A Year Full of Amazing AI papers — A Review How to Use Permutation Tests',\n",
              " 'Introduction to Binary Classification with PyCaret A $9B AI Failure, Examined Using Datawig, an AWS Deep Learning Library for Missing Value ... 10 Simple Things to Try Before Neural Networks Top Stories, Nov 29 – Dec 5: Why Machine Learning Engine... What Does a Data Scientist Do? A Beginner’s Guide to End to End Machine Learning Meta-Learning for Keyphrase Extraction How to Get Certified as a Data Scientist [Silver Blog] Using PyCaret’s New Time Series Module Enhance Your Data Mining Career Avoid These Mistakes with Time Series Forecasting 2021: A Year Full of Amazing AI papers — A Review How to Use Permutation Tests',\n",
              " 'A $9B AI Failure, Examined Using Datawig, an AWS Deep Learning Library for Missing Value ... 10 Simple Things to Try Before Neural Networks Top Stories, Nov 29 – Dec 5: Why Machine Learning Engine... What Does a Data Scientist Do? A Beginner’s Guide to End to End Machine Learning Meta-Learning for Keyphrase Extraction How to Get Certified as a Data Scientist [Silver Blog] Using PyCaret’s New Time Series Module Enhance Your Data Mining Career Avoid These Mistakes with Time Series Forecasting 2021: A Year Full of Amazing AI papers — A Review How to Use Permutation Tests',\n",
              " 'Using Datawig, an AWS Deep Learning Library for Missing Value ... 10 Simple Things to Try Before Neural Networks Top Stories, Nov 29 – Dec 5: Why Machine Learning Engine... What Does a Data Scientist Do? A Beginner’s Guide to End to End Machine Learning Meta-Learning for Keyphrase Extraction How to Get Certified as a Data Scientist [Silver Blog] Using PyCaret’s New Time Series Module Enhance Your Data Mining Career Avoid These Mistakes with Time Series Forecasting 2021: A Year Full of Amazing AI papers — A Review How to Use Permutation Tests',\n",
              " '10 Simple Things to Try Before Neural Networks Top Stories, Nov 29 – Dec 5: Why Machine Learning Engine... What Does a Data Scientist Do? A Beginner’s Guide to End to End Machine Learning Meta-Learning for Keyphrase Extraction How to Get Certified as a Data Scientist [Silver Blog] Using PyCaret’s New Time Series Module Enhance Your Data Mining Career Avoid These Mistakes with Time Series Forecasting 2021: A Year Full of Amazing AI papers — A Review How to Use Permutation Tests',\n",
              " 'Top Stories, Nov 29 – Dec 5: Why Machine Learning Engine... What Does a Data Scientist Do? A Beginner’s Guide to End to End Machine Learning Meta-Learning for Keyphrase Extraction How to Get Certified as a Data Scientist [Silver Blog] Using PyCaret’s New Time Series Module Enhance Your Data Mining Career Avoid These Mistakes with Time Series Forecasting 2021: A Year Full of Amazing AI papers — A Review How to Use Permutation Tests',\n",
              " 'What Does a Data Scientist Do? A Beginner’s Guide to End to End Machine Learning Meta-Learning for Keyphrase Extraction How to Get Certified as a Data Scientist [Silver Blog] Using PyCaret’s New Time Series Module Enhance Your Data Mining Career Avoid These Mistakes with Time Series Forecasting 2021: A Year Full of Amazing AI papers — A Review How to Use Permutation Tests',\n",
              " 'A Beginner’s Guide to End to End Machine Learning Meta-Learning for Keyphrase Extraction How to Get Certified as a Data Scientist [Silver Blog] Using PyCaret’s New Time Series Module Enhance Your Data Mining Career Avoid These Mistakes with Time Series Forecasting 2021: A Year Full of Amazing AI papers — A Review How to Use Permutation Tests',\n",
              " 'Meta-Learning for Keyphrase Extraction How to Get Certified as a Data Scientist [Silver Blog] Using PyCaret’s New Time Series Module Enhance Your Data Mining Career Avoid These Mistakes with Time Series Forecasting 2021: A Year Full of Amazing AI papers — A Review How to Use Permutation Tests',\n",
              " 'How to Get Certified as a Data Scientist [Silver Blog] Using PyCaret’s New Time Series Module Enhance Your Data Mining Career Avoid These Mistakes with Time Series Forecasting 2021: A Year Full of Amazing AI papers — A Review How to Use Permutation Tests',\n",
              " 'Using PyCaret’s New Time Series Module Enhance Your Data Mining Career Avoid These Mistakes with Time Series Forecasting 2021: A Year Full of Amazing AI papers — A Review How to Use Permutation Tests',\n",
              " 'Enhance Your Data Mining Career Avoid These Mistakes with Time Series Forecasting 2021: A Year Full of Amazing AI papers — A Review How to Use Permutation Tests',\n",
              " 'Avoid These Mistakes with Time Series Forecasting 2021: A Year Full of Amazing AI papers — A Review How to Use Permutation Tests',\n",
              " '2021: A Year Full of Amazing AI papers — A Review How to Use Permutation Tests',\n",
              " 'How to Use Permutation Tests']"
            ]
          },
          "metadata": {},
          "execution_count": 982
        }
      ]
    },
    {
      "cell_type": "code",
      "source": [
        "ml_answer = []\n",
        "\n",
        "for tag in p_tag:\n",
        "  ml_answer.append(tag.text.strip())\n",
        "\n",
        "ml_answer"
      ],
      "metadata": {
        "colab": {
          "base_uri": "https://localhost:8080/"
        },
        "id": "GFJYgwVCWDuM",
        "outputId": "5c980427-3331-49da-a994-b26720b5e0f6"
      },
      "execution_count": 914,
      "outputs": [
        {
          "output_type": "execute_result",
          "data": {
            "text/plain": [
              "['There is always a lot to learn in machine learning. Whether you are new to the field or a seasoned practitioner and ready for a refresher, understanding these key concepts will keep your skills honed in the right direction.',\n",
              " 'By Abhay Parashar, Python Developer | Data Science Learner.',\n",
              " '',\n",
              " 'Image By Author.',\n",
              " 'Machine Learning is the path to a better and advanced future. A Machine Learning Developer is the most demanding job in 2021, and it is going to increase by 20–30% in the upcoming 3–5 years. Machine Learning by the core is all statistics and programming concepts. The language that is mostly used by Machine learning developers for coding is python because of its simplicity. In this blog, you will find some of the most asked machine learning questions that every machine learning enthusiast has to answer one day.\\xa0Let’s start.',\n",
              " 'Ans:\\xa0Machine learning is the science of getting computers to act in a real-time situation without being explicitly programmed. It is an application of artificial intelligence that provides systems to automatically learn and improve from previous experience.It allows computers to learn and adapt to new data without any kind of human intervention.',\n",
              " 'Ans:',\n",
              " 'Supervised Learning:\\xa0A model is trained on the labeled data, and then it makes predictions based on the previously labeled data. It requires a supervisor (labels) to train the data.\\xa0E.g., text classification.',\n",
              " 'Unsupervised Learning: A model is trained on unlabeled data. The model tries to find patterns, relationships in the data and classify the classes according to that. We don’t have any labeled data.',\n",
              " 'Semi-Supervised Learning: It is a type of machine learning that uses some amount of labeled data and a large amount of unlabeled data to train the model. The goal of this is to classify some of the unlabeled data with the help of labeled data.',\n",
              " 'Ans: reinforcement learning is an area of machine learning in which the model is trained according to the rewards given to it based on its previous actions in the environment. There is an agent whose task is to give rewards and also to maximize the rewards. If the model performs the task correctly, it gets a +1 reward, but if it does a task wrong, then it gets a -1 reward.',\n",
              " 'Applications: Self-driven cars, automatic parking, puzzle solver, and more.',\n",
              " 'Ans: There Are Two Types of Data. Structured and Unstructured Data.',\n",
              " \"1. Structured Data:\\xa0This type of data is predefined, labeled, and well-formatted before being stored in a data storage. Example: Student Records Table.\\n2. Unstructured Data: This Type of data is in native format, and it's not processed until it is used. Example: Text, Audio, Video, Emails, etc.\",\n",
              " 'Ans:\\xa0Features are the input information. On the other hand, labels are the output information for a mode.\\nFeatures are used to predict something, and labels are the ones which we predict. Also, features are named as\\xa0independent variables, and labels are\\xa0dependent variables.',\n",
              " 'Ans:',\n",
              " 'Regression:\\xa0regression is a process of finding the correlation between the dependent and independent variables. It is helpful in the prediction of continuous variables, such as in the prediction of the stock market, house prices, etc. In regression, our task is to find the best suitable line that can predict the output accurately.',\n",
              " 'Classification: Classification is the process of finding a function that helps in dividing the data into different classes. These are mainly used in discrete data. In classification, our aim is to find the decision boundary which can divide the dataset into different classes.',\n",
              " '',\n",
              " 'Image By Author.',\n",
              " 'Ans: Scikit-learn is a robust library in python used for machine learning tasks. The Scikit-learn library contains a lot of efficient tools and classes for machine learning and statistical modeling, including classification, regression, clustering, feature selection, parameter tuning, etc. It is an efficient tool for predictive analysis. It provides all the major algorithms in the form of classes and functions. In python, it is written as\\xa0sklearn.',\n",
              " 'Ans:\\xa0The Training Set is the set given to the model for training, analyzing, and learning. The Test Set is the set that is used for testing the model locally before using it in a real application. The Training Set is Labeled data, and the Test Set has no labels.',\n",
              " 'It is important to divide the dataset into training and test sets so that the model will not go in overfitting or underfitting conditions. Also, it is a great method to evaluate the model and understand the characteristics of the data. In most cases, the split is 70/30, meaning 70% of the full data set for training and 30% for testing.',\n",
              " 'Ans:',\n",
              " 'Data Collection:\\xa0It is the first stage of any kind of machine learning model. In this stage, the appropriate data is decided, and then it is collected using some algorithm or manually.',\n",
              " 'Data Processing: In this stage, the data that we have collected in the first stage is preprocessed by handling all the null values, categorical data, etc. Also, in the same stage, the data features are made in the same range if they are not already.',\n",
              " 'Model Building: In this stage, first, we choose appropriate algorithms to create the model, and then, with the help of sklearn, for example, the model is built.',\n",
              " 'Model Evaluation: After the model is created, it is evaluated using some techniques of statistics like accuracy score, z score, accuracy matrix, and more.',\n",
              " 'Model Saving and Testing: After a successful evaluation of the model, it is saved for future use, and real-time testing is done using it.',\n",
              " 'Ans:',\n",
              " 'Overfitting: It is a condition that occurs when model performance on training data is good but on test data is bad. Example: Model accuracy on the train is 94% and on test 56%. It is a modeling error that occurs when a function is too closely fit a limited set of data points. To avoid overfitting, we can collect more data, use ensembling methods or choose the right algorithm that fits the data best.',\n",
              " 'Underfitting: Model performance is poor on training data as well as test data. In other words, this type of model failed to generalize the new data points.',\n",
              " '“Machine intelligence is the last invention that humanity will ever need to make.” ~\\xa0Nick Bostrom',\n",
              " 'Ans: The Confusion Matrix is a measurement table that is used to measure the performance of a machine learning algorithm. It is a table of different combinations of predicted and actual values. It is useful for measuring recall, precision, AUC-ROC curve, and accuracy. The diagonal of the matrix contains all the true or correct data. The size of the matrix depends upon the classes in the dependent variable. The matrix size is equal to N*N, where N is the number of classes in the output of the dependent variable.',\n",
              " '',\n",
              " 'Image source.',\n",
              " 'Ans:',\n",
              " 'Type I Error (False Positive Error): It occurs when the null hypothesis is true, but it gets rejected, meaning it claims something has happened when it hasn’t.',\n",
              " \"Type II Error (False Negative Error): It occurs when the null hypothesis gets accepted when it's not true, meaning it claims nothing happened when something has happened.\",\n",
              " 'Example: Let’s take the example of a scenario in which a null hypothesis is a person who is innocent. Convicting an innocent person is a Type I error. On the other hand, letting a guilty person go free is a Type II error.',\n",
              " 'Ans:',\n",
              " 'Precision\\xa0is the ratio of correctly predicted positive observation and total predicted positive observation. It shows how precise our model is.',\n",
              " 'Recall\\xa0is the ratio of the correct predicted positive observation and the total observation in the class.',\n",
              " 'F1-Score\\xa0is the weighted average of recall and precision.',\n",
              " 'Accuracy\\xa0is the ratio of correctly predicted positive observations to the total positive observations.',\n",
              " 'Ans: P-Value is the determination of a result when the null hypothesis is assumed to be true. If the p-value is very small (<0.05), then our assumption that the null hypothesis is correct is most likely to be false. Thus we reject the null hypothesis.',\n",
              " 'Ans: A ROC curve is a graph showing the performance of a classification model at different thresholds. It uses two curve plot parameters, True positive rate (sensitivity) and False positive rate (Specificity).',\n",
              " 'Ans:\\xa0KNN\\xa0is a supervised machine learning technique that is used for classification or regression problems. In KNN, the K\\xa0represents the number of nearest neighbors used to predict the dependent variable.',\n",
              " 'K-means clustering is an unsupervised machine learning algorithm that is used to divide the data into different clusters based on K, the number of clusters, and centroids.',\n",
              " 'Ans: Naive Bayes classifier assumes that all the input variables are independent of each other, meaning they don’t have any relationship between them, which is actually an unrealistic assumption for real data.',\n",
              " \"Let’s suppose a dataset that contains information about fruits and detects whether the fruit is an apple or not. A sample of this data contains a fruit that is red, round, and about 4'' in diameter. Even if all these features depend on each other or upon the existence of the other feature, a Naive Bayes classifier will always consider them as independent contributors for the prediction of the fruit.\",\n",
              " 'Ans: Ensemble Learning\\xa0is a technique in which the predictions or results of multiple models are combined to achieve better performance. Let’s take an example of if you buy a car, you generally go for research on the web to search for reviews and features of different cars. In the end, after combining all the reviews, you create your own review of that car and decide whether you want to purchase it or not. The review you create is the better version of all the reviews you read because it contains the information from all the reviews.',\n",
              " 'Ensemble learning works the same: the predictions from many algorithms are used to create a better model.',\n",
              " 'Ensemble Learning can be done in two ways. One is to combine different algorithm predictions to generate a new high-accuracy prediction. Another way is to use a single algorithm multiple times and, in the end, use each model prediction to generate a better model with good accuracy.',\n",
              " '“Don’t Let Yesterday Take Up Too Much Of Today.” ~ Will Rogers',\n",
              " 'Ans:',\n",
              " 'Bagging\\xa0is a method of combining predictions of the same type, meaning from the same algorithm. Ex: Random Forest. In this, each model is built independently with equal weight given to them. It reduces the overfitting problem. It also decreases the variance.',\n",
              " 'Boosting\\xa0is a way of combining predictions belongs to different algorithms. Ex: Gradient boosting. The new model is highly influenced by the performance of the previously built models. It reduces the bias.',\n",
              " 'Ans: Bias is the difference between the average prediction of the model and the correct value. On the other hand, variance is the variability of a data point that shows the spread of the data.',\n",
              " 'If our model has fewer parameters, then it may have high bias and low variance. Because of that, it will be consistent but inaccurate on average. A model with a large number of parameters may have low bias and high variance models, which are mostly accurate on average but inconsistent in nature. A good model always has low bias and low variance.',\n",
              " 'Ans: A regression model that uses L1 Regularization is called\\xa0Lasso Regression, and the Model which uses L2 Regularization is called\\xa0Ridge Regression.',\n",
              " 'Ans:',\n",
              " '1.\\xa0Replacing the missing value with the mean, median, or mode.\\n2.\\xa0Replacing the missing values with a random value.\\n3.\\xa0Taking all the NaN values and using them as a New Feature.\\n4.\\xa0Replacing NaN values with the third deviation value.\\n5.\\xa0Replacing NaN with Least or Last Outlier\\n6.\\xa0Replacing NaN with the most frequent Category\\xa0(Categorical Values)\\n7.\\xa0Treating the missing values as a new category\\n8.\\xa0Apply a classifier to predict NaN values\\n9.\\xa0Drop Values',\n",
              " 'Learn more:\\xa09 Ways to Handle Missing Values in Machine Learning',\n",
              " 'Ans:',\n",
              " '“Torture the data, and it will confess to anything.” ~ Ronald Coase',\n",
              " 'Ans: To Handle Categorical Values We Can Perform Encoding That Basically converts the categorical data into numerical data.',\n",
              " 'Learn more:\\xa0Different Approaches to handle categorical values',\n",
              " 'Ans: Outliers are some unusual data points that differ from the rest of the data points or samples in the dataset. They can make a high impact on the model performance. To handle the outliers, we can do three things.',\n",
              " 'Ans: Feature transformation is a technique to transform features from one representation to another. On the other hand, feature scaling is a technique of converting all the values of a feature in the same range.',\n",
              " 'Sometimes in our dataset, we have columns that have different units — like one column can be age while the other can be the salary of the person. In this scenario, the age column ranges from 0 to 100, and the salary column ranges from 0 to 10000. There is such a difference between the values of these columns, so because of that, the column having larger values will influence the output more. That will result in a bad-performing model. Thus we need to perform feature scaling and transformation.',\n",
              " 'Ans: In imbalanced data, samples in each class will have a huge difference between them. For example, one class may have 1000 samples. On the other hand, another class may only have 200–300 samples. In such scenarios, before doing anything, we first need to handle the imbalance of the data. There are many techniques we can follow.',\n",
              " 'Ans: A/B Testing is a statistical hypothesis test for randomizing experiments with two variables. It is usually used to compare two models that used different predictor variables in order to check which fits the data best.',\n",
              " 'In a real-world scenario, suppose you create two models that recommend products for users. A/B testing can be used to compare these two models to check which one gives the best recommendations.',\n",
              " 'Ans: It is a technique for increasing the model performance by feeding multiple sample data from the dataset. The sampling process is done by breaking the data into smaller parts that have the same number of rows. Out of all the parts, one is randomly selected for the test and another one for train sets. It consists of the following techniques:',\n",
              " 'Ans: PCA (Principal Component Analysis) is a dimensionality-reduction method that is used to reduce the dimension of the large data sets.',\n",
              " 'In real life, we usually come across datasets that have large dimensions, and because of that, visualizing and analyzing those datasets become difficult. PCA can help to reduce the dimensionality of the dataset by removing unnecessary dimensions from the dataset.',\n",
              " '“The More You Learn, The More You Earn.” ~\\xa0Warren Buffett',\n",
              " 'Ans: A pipeline is used to automate machine learning workflows. A pipeline consists of several steps to train a model. These pipelines are iterative, so every step is repeated many times to improve the accuracy of the model.',\n",
              " 'The pipeline is mainly used in NLP. One part of the pipelines doing the cleaning and vectorization one the other hand another part of the pipeline doing the model training and validation.',\n",
              " 'Original. Reposted with permission.',\n",
              " '',\n",
              " 'Related:',\n",
              " '',\n",
              " \"var disqus_shortname = 'kdnuggets'; \\n (function() { var dsq = document.createElement('script'); dsq.type = 'text/javascript'; dsq.async = true; dsq.src = 'https://kdnuggets.disqus.com/embed.js';\\n (document.getElementsByTagName('head')[0] || document.getElementsByTagName('body')[0]).appendChild(dsq); })();\",\n",
              " '',\n",
              " '',\n",
              " 'By subscribing you accept KDnuggets Privacy Policy']"
            ]
          },
          "metadata": {},
          "execution_count": 914
        }
      ]
    },
    {
      "cell_type": "markdown",
      "source": [
        "There are total 31 questions and their respective answers but what happened is, the answers are written as paragraphs on the website and every paragraph is displayed as different strings here, so I needed to join them and reconstruct the answer and also required to delete some text like IMAGE FROM AUTHOR, etc."
      ],
      "metadata": {
        "id": "L19cza38jK_Y"
      }
    },
    {
      "cell_type": "code",
      "source": [
        "del ml_answer[0:5]"
      ],
      "metadata": {
        "id": "6MVrRZy3y5yO"
      },
      "execution_count": 915,
      "outputs": []
    },
    {
      "cell_type": "code",
      "source": [
        "ml_answer[14:20]"
      ],
      "metadata": {
        "colab": {
          "base_uri": "https://localhost:8080/"
        },
        "id": "ekz1S5Ne3Eem",
        "outputId": "1d08ae62-78ee-4efa-e8b7-b5a37b5517c5"
      },
      "execution_count": 916,
      "outputs": [
        {
          "output_type": "execute_result",
          "data": {
            "text/plain": [
              "['Image By Author.',\n",
              " 'Ans: Scikit-learn is a robust library in python used for machine learning tasks. The Scikit-learn library contains a lot of efficient tools and classes for machine learning and statistical modeling, including classification, regression, clustering, feature selection, parameter tuning, etc. It is an efficient tool for predictive analysis. It provides all the major algorithms in the form of classes and functions. In python, it is written as\\xa0sklearn.',\n",
              " 'Ans:\\xa0The Training Set is the set given to the model for training, analyzing, and learning. The Test Set is the set that is used for testing the model locally before using it in a real application. The Training Set is Labeled data, and the Test Set has no labels.',\n",
              " 'It is important to divide the dataset into training and test sets so that the model will not go in overfitting or underfitting conditions. Also, it is a great method to evaluate the model and understand the characteristics of the data. In most cases, the split is 70/30, meaning 70% of the full data set for training and 30% for testing.',\n",
              " 'Ans:',\n",
              " 'Data Collection:\\xa0It is the first stage of any kind of machine learning model. In this stage, the appropriate data is decided, and then it is collected using some algorithm or manually.']"
            ]
          },
          "metadata": {},
          "execution_count": 916
        }
      ]
    },
    {
      "cell_type": "code",
      "source": [
        "del ml_answer[1]"
      ],
      "metadata": {
        "id": "auA6nbNINVHF"
      },
      "execution_count": 917,
      "outputs": []
    },
    {
      "cell_type": "code",
      "source": [
        "ml_answer[1] = ('\\n').join([ml_answer[1], ml_answer[2], ml_answer[3]])\n",
        "ml_answer[1] \n",
        "\n",
        "del ml_answer[2:4]"
      ],
      "metadata": {
        "id": "wvm8ybiC3RIG"
      },
      "execution_count": 918,
      "outputs": []
    },
    {
      "cell_type": "code",
      "source": [
        "ml_answer[2] = (' ').join([ml_answer[2], (' '+ml_answer[3])])\n",
        "ml_answer[2]\n",
        "\n",
        "del ml_answer[3]"
      ],
      "metadata": {
        "id": "r6C0IfTE4BSw"
      },
      "execution_count": 919,
      "outputs": []
    },
    {
      "cell_type": "code",
      "source": [
        "ml_answer[3] = (' ').join([ml_answer[3], (' '+ml_answer[4])])\n",
        "ml_answer[3]\n",
        "\n",
        "del ml_answer[4]"
      ],
      "metadata": {
        "id": "OVVhI5ej4BOc"
      },
      "execution_count": 920,
      "outputs": []
    },
    {
      "cell_type": "code",
      "source": [
        "del ml_answer[5]"
      ],
      "metadata": {
        "id": "EoIz938GOIEM"
      },
      "execution_count": 921,
      "outputs": []
    },
    {
      "cell_type": "code",
      "source": [
        "ml_answer[5] = (' ').join([ml_answer[5], (' '+ml_answer[6])])\n",
        "ml_answer[5]\n",
        "\n",
        "del ml_answer[6]"
      ],
      "metadata": {
        "id": "fFTKVFru5MXc"
      },
      "execution_count": 922,
      "outputs": []
    },
    {
      "cell_type": "code",
      "source": [
        "del ml_answer[6:8]"
      ],
      "metadata": {
        "id": "73_m5r-POeTE"
      },
      "execution_count": 923,
      "outputs": []
    },
    {
      "cell_type": "code",
      "source": [
        "ml_answer[7] = (' ').join([ml_answer[7], (' '+ml_answer[8])])\n",
        "ml_answer[7]\n",
        "\n",
        "del ml_answer[8]"
      ],
      "metadata": {
        "id": "N9iRfZsh6Ab4"
      },
      "execution_count": 924,
      "outputs": []
    },
    {
      "cell_type": "code",
      "source": [
        "del ml_answer[8]"
      ],
      "metadata": {
        "id": "Z4Dg7eTHOde5"
      },
      "execution_count": 925,
      "outputs": []
    },
    {
      "cell_type": "code",
      "source": [
        "ml_answer[8] = (' ').join(ml_answer[8:13])\n",
        "ml_answer[8]\n",
        "\n",
        "del ml_answer[9:13]"
      ],
      "metadata": {
        "id": "p-iUG7mP6AW3"
      },
      "execution_count": 926,
      "outputs": []
    },
    {
      "cell_type": "code",
      "source": [
        "del ml_answer[9]"
      ],
      "metadata": {
        "id": "irAMp9ctPJ5t"
      },
      "execution_count": 927,
      "outputs": []
    },
    {
      "cell_type": "code",
      "source": [
        "ml_answer[9] = ('\\n').join(ml_answer[9:12])\n",
        "ml_answer[9]\n",
        "\n",
        "del ml_answer[10:12]"
      ],
      "metadata": {
        "id": "2Rc4X9MMPQ1N"
      },
      "execution_count": 928,
      "outputs": []
    },
    {
      "cell_type": "code",
      "source": [
        "del ml_answer[11:14]"
      ],
      "metadata": {
        "id": "MEd9u7cXPQlZ"
      },
      "execution_count": 929,
      "outputs": []
    },
    {
      "cell_type": "code",
      "source": [
        "ml_answer[10] = ('\\n').join([ml_answer[10], li_answer[12], li_answer[13], li_answer[14], li_answer[15]])\n",
        "ml_answer[10]"
      ],
      "metadata": {
        "colab": {
          "base_uri": "https://localhost:8080/",
          "height": 86
        },
        "id": "ticgJZt9P6Al",
        "outputId": "80a886de-d1b9-4aaf-b6a4-bfabf1eadd32"
      },
      "execution_count": 930,
      "outputs": [
        {
          "output_type": "execute_result",
          "data": {
            "application/vnd.google.colaboratory.intrinsic+json": {
              "type": "string"
            },
            "text/plain": [
              "'Ans: The Confusion Matrix is a measurement table that is used to measure the performance of a machine learning algorithm. It is a table of different combinations of predicted and actual values. It is useful for measuring recall, precision, AUC-ROC curve, and accuracy. The diagonal of the matrix contains all the true or correct data. The size of the matrix depends upon the classes in the dependent variable. The matrix size is equal to N*N, where N is the number of classes in the output of the dependent variable.\\nTrue Positive: Actual Value = Predicted Value when o/p is 1\\nTrue Negative : Actual Value != Predicted Value when o/p is 0\\nFalse Positive: Type I Error\\nFalse Negative: Type II Error'"
            ]
          },
          "metadata": {},
          "execution_count": 930
        }
      ]
    },
    {
      "cell_type": "code",
      "source": [
        "ml_answer[11] = ('\\n').join(ml_answer[11:14])\n",
        "ml_answer[11]\n",
        "\n",
        "del ml_answer[12:14]"
      ],
      "metadata": {
        "id": "EzkTg15jP577"
      },
      "execution_count": 931,
      "outputs": []
    },
    {
      "cell_type": "code",
      "source": [
        "del ml_answer[12]"
      ],
      "metadata": {
        "id": "aXaxOQs0Qdib"
      },
      "execution_count": 932,
      "outputs": []
    },
    {
      "cell_type": "code",
      "source": [
        "precision = ('\\n').join([ml_answer[12], li_answer[16]])\n",
        "recall = ('\\n').join([ml_answer[13], li_answer[17]])\n",
        "f1 = ('\\n').join([ml_answer[14], li_answer[18]])\n",
        "accuracy = ('\\n').join([ml_answer[15], li_answer[19]])\n",
        "\n",
        "precision, recall, f1, accuracy"
      ],
      "metadata": {
        "colab": {
          "base_uri": "https://localhost:8080/"
        },
        "id": "yj26gpgNQdcx",
        "outputId": "c6bb6f23-4daa-49e7-a708-ed265a2fb2ad"
      },
      "execution_count": 933,
      "outputs": [
        {
          "output_type": "execute_result",
          "data": {
            "text/plain": [
              "('Precision\\xa0is the ratio of correctly predicted positive observation and total predicted positive observation. It shows how precise our model is.\\nPrecision = TP/TP+FP',\n",
              " 'Recall\\xa0is the ratio of the correct predicted positive observation and the total observation in the class.\\nRecall = TP/TP+FN',\n",
              " 'F1-Score\\xa0is the weighted average of recall and precision.\\nF1-Score = 2*(Recall * Precision) / (Recall + Precision)',\n",
              " 'Accuracy\\xa0is the ratio of correctly predicted positive observations to the total positive observations.\\nAccuracy = TP+TN/TP+TN+FP+FN')"
            ]
          },
          "metadata": {},
          "execution_count": 933
        }
      ]
    },
    {
      "cell_type": "code",
      "source": [
        "ml_answer[12] = ('\\n').join([precision, recall, f1, accuracy])\n",
        "ml_answer[12]\n",
        "\n",
        "del ml_answer[13:16]"
      ],
      "metadata": {
        "id": "1QNbeaE4QdXo"
      },
      "execution_count": 934,
      "outputs": []
    },
    {
      "cell_type": "code",
      "source": [
        "ml_answer[14] = '\\n'.join([ml_answer[14], li_answer[20], li_answer[21]])\n",
        "ml_answer[14]"
      ],
      "metadata": {
        "colab": {
          "base_uri": "https://localhost:8080/",
          "height": 69
        },
        "id": "vbPTQDyqQ3Um",
        "outputId": "6e4d655d-0e03-48af-ea28-f9c185fcfb81"
      },
      "execution_count": 935,
      "outputs": [
        {
          "output_type": "execute_result",
          "data": {
            "application/vnd.google.colaboratory.intrinsic+json": {
              "type": "string"
            },
            "text/plain": [
              "'Ans: A ROC curve is a graph showing the performance of a classification model at different thresholds. It uses two curve plot parameters, True positive rate (sensitivity) and False positive rate (Specificity).\\nThe closer the curve follows the left-hand border and then the top border, the more accurate the test is.\\nThe closer the curve to a 45 degree diagonal of ROC Space, the less accurate the test is.'"
            ]
          },
          "metadata": {},
          "execution_count": 935
        }
      ]
    },
    {
      "cell_type": "code",
      "source": [
        "ml_answer[15] = '\\n'.join(ml_answer[15:17])\n",
        "ml_answer[15]\n",
        "\n",
        "del ml_answer[16]"
      ],
      "metadata": {
        "id": "JN1--Pr8RlaO"
      },
      "execution_count": 936,
      "outputs": []
    },
    {
      "cell_type": "code",
      "source": [
        "ml_answer[16] = '\\n'.join(ml_answer[16:18])\n",
        "ml_answer[16]\n",
        "\n",
        "del ml_answer[17]"
      ],
      "metadata": {
        "id": "-nEA8LwARlQb"
      },
      "execution_count": 937,
      "outputs": []
    },
    {
      "cell_type": "code",
      "source": [
        "ml_answer[17] = '\\n'.join(ml_answer[17:21])\n",
        "ml_answer[17]\n",
        "\n",
        "del ml_answer[18:21]"
      ],
      "metadata": {
        "id": "8UwSGDU_SPD3"
      },
      "execution_count": 938,
      "outputs": []
    },
    {
      "cell_type": "code",
      "source": [
        "del ml_answer[18]"
      ],
      "metadata": {
        "id": "5qt4mLJ4To3v"
      },
      "execution_count": 939,
      "outputs": []
    },
    {
      "cell_type": "code",
      "source": [
        "ml_answer[18] = '\\n'.join(ml_answer[18:20])\n",
        "ml_answer[18]\n",
        "\n",
        "del ml_answer[19]"
      ],
      "metadata": {
        "id": "fs9emJg9ToyX"
      },
      "execution_count": 940,
      "outputs": []
    },
    {
      "cell_type": "code",
      "source": [
        "ml_answer[19] = '\\n'.join(ml_answer[19:21])\n",
        "ml_answer[19]\n",
        "\n",
        "del ml_answer[20]"
      ],
      "metadata": {
        "id": "3gtjreoUUF7v"
      },
      "execution_count": 941,
      "outputs": []
    },
    {
      "cell_type": "code",
      "source": [
        "ml_answer[20] = '\\n'.join([ml_answer[20], li_answer[22], li_answer[23], li_answer[24]])\n",
        "ml_answer[20]\n",
        "\n",
        "del ml_answer[21]"
      ],
      "metadata": {
        "id": "0sKFgTfvUF23"
      },
      "execution_count": 942,
      "outputs": []
    },
    {
      "cell_type": "code",
      "source": [
        "del ml_answer[22:24]"
      ],
      "metadata": {
        "id": "GX6pIkZKVDYj"
      },
      "execution_count": 943,
      "outputs": []
    },
    {
      "cell_type": "code",
      "source": [
        "ml_answer[22] = '\\n'.join([\"\\033[1m\" + li_answer[25] + \"\\033[0m\", \"\\033[1m\" + li_answer[26] + \"\\033[0m\", \"\\033[1m\" + li_answer[27] + \"\\033[0m\", \"\\033[1m\" + li_answer[28] + \"\\033[0m\"])\n",
        "ml_answer[22] "
      ],
      "metadata": {
        "colab": {
          "base_uri": "https://localhost:8080/",
          "height": 104
        },
        "id": "J-YpnU8BUFrk",
        "outputId": "4689e5bc-491e-40f0-8747-d22351c89c7d"
      },
      "execution_count": 944,
      "outputs": [
        {
          "output_type": "execute_result",
          "data": {
            "application/vnd.google.colaboratory.intrinsic+json": {
              "type": "string"
            },
            "text/plain": [
              "'\\x1b[1mUnivariate Selection:\\xa0In this method, we used SelectKBest Algo to find the feature score with respect to the dependent column.\\x1b[0m\\n\\x1b[1mExtra Tree Classifier: This technique gives you a score for each feature of the data. The higher the score, the more important and relevant that feature is. You can import the class from\\xa0sklean.ensemble.\\x1b[0m\\n\\x1b[1mCorrelation Matrix: A table that displays the correlation of all the features against each other. Each cell in the table displays a correlation between two variables. We can use a threshold value to select the less correlated variables out of the dataset.\\x1b[0m\\n\\x1b[1mMutual Information: It is a classifier that generates the mutual information of each feature with respect to the dependent feature. The higher the information is relevant it is.\\x1b[0m'"
            ]
          },
          "metadata": {},
          "execution_count": 944
        }
      ]
    },
    {
      "cell_type": "code",
      "source": [
        "ml_answer[23] = '\\n'.join([ml_answer[23], \"\\033[1m\" + li_answer[29] + \"\\033[0m\", \"\\033[1m\" + li_answer[30] + \"\\033[0m\", \"\\033[1m\" + li_answer[31] + \"\\033[0m\"])\n",
        "ml_answer[23]\n",
        "\n",
        "del ml_answer[24]"
      ],
      "metadata": {
        "id": "hxBBTiiDVx2z"
      },
      "execution_count": 945,
      "outputs": []
    },
    {
      "cell_type": "code",
      "source": [
        "ml_answer[24] = '\\n'.join([ml_answer[24], li_answer[32], li_answer[33], li_answer[34]])\n",
        "ml_answer[24]"
      ],
      "metadata": {
        "colab": {
          "base_uri": "https://localhost:8080/",
          "height": 69
        },
        "id": "2MoqV0cRVxk_",
        "outputId": "d5cbc530-103f-4166-9357-20ffa4159295"
      },
      "execution_count": 947,
      "outputs": [
        {
          "output_type": "execute_result",
          "data": {
            "application/vnd.google.colaboratory.intrinsic+json": {
              "type": "string"
            },
            "text/plain": [
              "'Ans: Outliers are some unusual data points that differ from the rest of the data points or samples in the dataset. They can make a high impact on the model performance. To handle the outliers, we can do three things.\\nRemove all the outliers\\nReplace the outlier values with a suitable value (Like 3rd deviation)\\nUse a Different algorithm that is not sensitive to outliers.'"
            ]
          },
          "metadata": {},
          "execution_count": 947
        }
      ]
    },
    {
      "cell_type": "code",
      "source": [
        "ml_answer[25] = '\\n'.join(ml_answer[24:27])\n",
        "ml_answer[25]\n",
        "\n",
        "del ml_answer[26]"
      ],
      "metadata": {
        "id": "vuDjUnnnWgq3"
      },
      "execution_count": 948,
      "outputs": []
    },
    {
      "cell_type": "code",
      "source": [
        "ml_answer[26] = '\\n'.join([ml_answer[26], li_answer[35], li_answer[36], li_answer[37], li_answer[38]])\n",
        "ml_answer[26]"
      ],
      "metadata": {
        "colab": {
          "base_uri": "https://localhost:8080/",
          "height": 69
        },
        "id": "ubB9hCQdWgl1",
        "outputId": "a3504a6b-2e6d-47db-d5de-20df049fc6e7"
      },
      "execution_count": 949,
      "outputs": [
        {
          "output_type": "execute_result",
          "data": {
            "application/vnd.google.colaboratory.intrinsic+json": {
              "type": "string"
            },
            "text/plain": [
              "'Ans: In imbalanced data, samples in each class will have a huge difference between them. For example, one class may have 1000 samples. On the other hand, another class may only have 200–300 samples. In such scenarios, before doing anything, we first need to handle the imbalance of the data. There are many techniques we can follow.\\nCollect more data.\\nApply oversampling when we have a large amount of data\\nApply undersampling\\nTry some other algorithm'"
            ]
          },
          "metadata": {},
          "execution_count": 949
        }
      ]
    },
    {
      "cell_type": "code",
      "source": [
        "ml_answer[27] = '\\n'.join(ml_answer[27:29])\n",
        "ml_answer[27]\n",
        "\n",
        "del ml_answer[28]"
      ],
      "metadata": {
        "id": "ykN_GfQAWghR"
      },
      "execution_count": 953,
      "outputs": []
    },
    {
      "cell_type": "code",
      "source": [
        "ml_answer[28] = '\\n'.join([ml_answer[28], li_answer[39], li_answer[40], li_answer[41], li_answer[42]])\n",
        "ml_answer[28]"
      ],
      "metadata": {
        "colab": {
          "base_uri": "https://localhost:8080/",
          "height": 69
        },
        "id": "DOlVTKirXf1_",
        "outputId": "dbf57009-8809-4869-d7d8-d1cbd2782436"
      },
      "execution_count": 957,
      "outputs": [
        {
          "output_type": "execute_result",
          "data": {
            "application/vnd.google.colaboratory.intrinsic+json": {
              "type": "string"
            },
            "text/plain": [
              "'Ans: It is a technique for increasing the model performance by feeding multiple sample data from the dataset. The sampling process is done by breaking the data into smaller parts that have the same number of rows. Out of all the parts, one is randomly selected for the test and another one for train sets. It consists of the following techniques:\\nk-fold cross-validation\\nHoldout method\\nStratified k-fold cross-validation\\nLeave p-out cross-validation'"
            ]
          },
          "metadata": {},
          "execution_count": 957
        }
      ]
    },
    {
      "cell_type": "code",
      "source": [
        "ml_answer[30:32]"
      ],
      "metadata": {
        "colab": {
          "base_uri": "https://localhost:8080/"
        },
        "id": "7nO5-3NgXwQj",
        "outputId": "252814a0-4cc9-438a-feea-97bd4121283e"
      },
      "execution_count": 961,
      "outputs": [
        {
          "output_type": "execute_result",
          "data": {
            "text/plain": [
              "['Ans: A pipeline is used to automate machine learning workflows. A pipeline consists of several steps to train a model. These pipelines are iterative, so every step is repeated many times to improve the accuracy of the model.',\n",
              " 'The pipeline is mainly used in NLP. One part of the pipelines doing the cleaning and vectorization one the other hand another part of the pipeline doing the model training and validation.']"
            ]
          },
          "metadata": {},
          "execution_count": 961
        }
      ]
    },
    {
      "cell_type": "code",
      "source": [
        "ml_answer[29] = '\\n'.join(ml_answer[29:32])\n",
        "ml_answer[29]\n",
        "\n",
        "del ml_answer[30:32]"
      ],
      "metadata": {
        "id": "0icADPxMXfw0"
      },
      "execution_count": 959,
      "outputs": []
    },
    {
      "cell_type": "code",
      "source": [
        "ml_answer[30] = '\\n'.join(ml_answer[30:32])\n",
        "ml_answer[30]\n",
        "\n",
        "del ml_answer[31]"
      ],
      "metadata": {
        "id": "MM2B-rTMYAUo"
      },
      "execution_count": 962,
      "outputs": []
    },
    {
      "cell_type": "code",
      "source": [
        "del ml_answer[31:]"
      ],
      "metadata": {
        "id": "lT_bHXalYVhQ"
      },
      "execution_count": 968,
      "outputs": []
    },
    {
      "cell_type": "markdown",
      "source": [
        "From some 88 length, after cleaning it became same as length of Questions i.e.31"
      ],
      "metadata": {
        "id": "BJYyQVUuj1QY"
      }
    },
    {
      "cell_type": "code",
      "source": [
        "len(ml_answer)"
      ],
      "metadata": {
        "colab": {
          "base_uri": "https://localhost:8080/"
        },
        "id": "KEJkBu0lYVcU",
        "outputId": "62174690-d310-44ce-8c03-39a4efe663ae"
      },
      "execution_count": 969,
      "outputs": [
        {
          "output_type": "execute_result",
          "data": {
            "text/plain": [
              "31"
            ]
          },
          "metadata": {},
          "execution_count": 969
        }
      ]
    },
    {
      "cell_type": "markdown",
      "source": [
        "Creating Answer dataframe"
      ],
      "metadata": {
        "id": "5SZu_SdnkAAi"
      }
    },
    {
      "cell_type": "code",
      "source": [
        "answer_dict = {'Answer': ml_answer}"
      ],
      "metadata": {
        "id": "oqAxBjZ7WDqL"
      },
      "execution_count": 970,
      "outputs": []
    },
    {
      "cell_type": "code",
      "source": [
        "answers = pd.DataFrame(answer_dict)\n",
        "answers['Answer'] = answers['Answer'].replace('Image By Author.', '').astype(str)"
      ],
      "metadata": {
        "id": "yRmQrrbV9x8c"
      },
      "execution_count": 971,
      "outputs": []
    },
    {
      "cell_type": "markdown",
      "source": [
        "Cleaning some unwanted text present between the answer."
      ],
      "metadata": {
        "id": "54kF14GhkDYx"
      }
    },
    {
      "cell_type": "code",
      "source": [
        "answers['Answer'] = answers['Answer'].replace(to_replace ='Ans:', value = '', regex = True)\n",
        "answers['Answer'] = answers['Answer'].replace(to_replace ='\\xa0', value = ' ', regex = True)\n",
        "answers['Answer'] = answers['Answer'].replace(to_replace ='“Don’t Let Yesterday Take Up Too Much Of Today.” ~ Will Rogers', value = ' ', regex = True)\n",
        "answers['Answer'] = answers['Answer'].replace(to_replace ='Image source.', value = ' ', regex = True)\n",
        "answers['Answer'] = answers['Answer'].replace(to_replace ='By Abhay Parashar, Python Developer | Data Science Learner.', value = ' ', regex = True)\n",
        "answers['Answer'] = answers['Answer'].replace(to_replace ='There is always a lot to learn in machine learning. Whether you are new to the field or a seasoned practitioner and ready for a refresher, understanding these key concepts will keep your skills honed in the right direction.', value = ' ', regex = True)\n",
        "answers['Answer'] = answers['Answer'].replace(to_replace ='Image By Author.', value = ' ', regex = True)\n",
        "answers['Answer'] = answers['Answer'].replace(to_replace ='Learn more: Different Approaches to handle categorical values', value = ' ', regex = True)"
      ],
      "metadata": {
        "id": "SmJOMLPEas_v"
      },
      "execution_count": 972,
      "outputs": []
    },
    {
      "cell_type": "code",
      "source": [
        "answers"
      ],
      "metadata": {
        "colab": {
          "base_uri": "https://localhost:8080/",
          "height": 1000
        },
        "id": "2z2crG12mZhY",
        "outputId": "9f4512c6-2d18-4cc1-d4a2-057b61ffb426"
      },
      "execution_count": 973,
      "outputs": [
        {
          "output_type": "execute_result",
          "data": {
            "text/html": [
              "<div>\n",
              "<style scoped>\n",
              "    .dataframe tbody tr th:only-of-type {\n",
              "        vertical-align: middle;\n",
              "    }\n",
              "\n",
              "    .dataframe tbody tr th {\n",
              "        vertical-align: top;\n",
              "    }\n",
              "\n",
              "    .dataframe thead th {\n",
              "        text-align: right;\n",
              "    }\n",
              "</style>\n",
              "<table border=\"1\" class=\"dataframe\">\n",
              "  <thead>\n",
              "    <tr style=\"text-align: right;\">\n",
              "      <th></th>\n",
              "      <th>Answer</th>\n",
              "    </tr>\n",
              "  </thead>\n",
              "  <tbody>\n",
              "    <tr>\n",
              "      <th>0</th>\n",
              "      <td>Machine learning is the science of getting co...</td>\n",
              "    </tr>\n",
              "    <tr>\n",
              "      <th>1</th>\n",
              "      <td>Supervised Learning: A model is trained on the...</td>\n",
              "    </tr>\n",
              "    <tr>\n",
              "      <th>2</th>\n",
              "      <td>reinforcement learning is an area of machine ...</td>\n",
              "    </tr>\n",
              "    <tr>\n",
              "      <th>3</th>\n",
              "      <td>There Are Two Types of Data. Structured and U...</td>\n",
              "    </tr>\n",
              "    <tr>\n",
              "      <th>4</th>\n",
              "      <td>Features are the input information. On the ot...</td>\n",
              "    </tr>\n",
              "    <tr>\n",
              "      <th>5</th>\n",
              "      <td>Regression: regression is a process of finding...</td>\n",
              "    </tr>\n",
              "    <tr>\n",
              "      <th>6</th>\n",
              "      <td>Scikit-learn is a robust library in python us...</td>\n",
              "    </tr>\n",
              "    <tr>\n",
              "      <th>7</th>\n",
              "      <td>The Training Set is the set given to the mode...</td>\n",
              "    </tr>\n",
              "    <tr>\n",
              "      <th>8</th>\n",
              "      <td>Data Collection: It is the first stage of any ...</td>\n",
              "    </tr>\n",
              "    <tr>\n",
              "      <th>9</th>\n",
              "      <td>Overfitting: It is a condition that occurs whe...</td>\n",
              "    </tr>\n",
              "    <tr>\n",
              "      <th>10</th>\n",
              "      <td>The Confusion Matrix is a measurement table t...</td>\n",
              "    </tr>\n",
              "    <tr>\n",
              "      <th>11</th>\n",
              "      <td>Type I Error (False Positive Error): It occurs...</td>\n",
              "    </tr>\n",
              "    <tr>\n",
              "      <th>12</th>\n",
              "      <td>Precision is the ratio of correctly predicted ...</td>\n",
              "    </tr>\n",
              "    <tr>\n",
              "      <th>13</th>\n",
              "      <td>P-Value is the determination of a result when...</td>\n",
              "    </tr>\n",
              "    <tr>\n",
              "      <th>14</th>\n",
              "      <td>A ROC curve is a graph showing the performanc...</td>\n",
              "    </tr>\n",
              "    <tr>\n",
              "      <th>15</th>\n",
              "      <td>KNN is a supervised machine learning techniqu...</td>\n",
              "    </tr>\n",
              "    <tr>\n",
              "      <th>16</th>\n",
              "      <td>Naive Bayes classifier assumes that all the i...</td>\n",
              "    </tr>\n",
              "    <tr>\n",
              "      <th>17</th>\n",
              "      <td>Ensemble Learning is a technique in which the...</td>\n",
              "    </tr>\n",
              "    <tr>\n",
              "      <th>18</th>\n",
              "      <td>Bagging is a method of combining predictions o...</td>\n",
              "    </tr>\n",
              "    <tr>\n",
              "      <th>19</th>\n",
              "      <td>Bias is the difference between the average pr...</td>\n",
              "    </tr>\n",
              "    <tr>\n",
              "      <th>20</th>\n",
              "      <td>A regression model that uses L1 Regularizatio...</td>\n",
              "    </tr>\n",
              "    <tr>\n",
              "      <th>21</th>\n",
              "      <td>1. Replacing the missing value with the mean, ...</td>\n",
              "    </tr>\n",
              "    <tr>\n",
              "      <th>22</th>\n",
              "      <td>\u001b[1mUnivariate Selection: In this method, we u...</td>\n",
              "    </tr>\n",
              "    <tr>\n",
              "      <th>23</th>\n",
              "      <td>To Handle Categorical Values We Can Perform E...</td>\n",
              "    </tr>\n",
              "    <tr>\n",
              "      <th>24</th>\n",
              "      <td>Outliers are some unusual data points that di...</td>\n",
              "    </tr>\n",
              "    <tr>\n",
              "      <th>25</th>\n",
              "      <td>Outliers are some unusual data points that di...</td>\n",
              "    </tr>\n",
              "    <tr>\n",
              "      <th>26</th>\n",
              "      <td>In imbalanced data, samples in each class wil...</td>\n",
              "    </tr>\n",
              "    <tr>\n",
              "      <th>27</th>\n",
              "      <td>A/B Testing is a statistical hypothesis test ...</td>\n",
              "    </tr>\n",
              "    <tr>\n",
              "      <th>28</th>\n",
              "      <td>It is a technique for increasing the model pe...</td>\n",
              "    </tr>\n",
              "    <tr>\n",
              "      <th>29</th>\n",
              "      <td>PCA (Principal Component Analysis) is a dimen...</td>\n",
              "    </tr>\n",
              "    <tr>\n",
              "      <th>30</th>\n",
              "      <td>A pipeline is used to automate machine learni...</td>\n",
              "    </tr>\n",
              "  </tbody>\n",
              "</table>\n",
              "</div>"
            ],
            "text/plain": [
              "                                               Answer\n",
              "0    Machine learning is the science of getting co...\n",
              "1   Supervised Learning: A model is trained on the...\n",
              "2    reinforcement learning is an area of machine ...\n",
              "3    There Are Two Types of Data. Structured and U...\n",
              "4    Features are the input information. On the ot...\n",
              "5   Regression: regression is a process of finding...\n",
              "6    Scikit-learn is a robust library in python us...\n",
              "7    The Training Set is the set given to the mode...\n",
              "8   Data Collection: It is the first stage of any ...\n",
              "9   Overfitting: It is a condition that occurs whe...\n",
              "10   The Confusion Matrix is a measurement table t...\n",
              "11  Type I Error (False Positive Error): It occurs...\n",
              "12  Precision is the ratio of correctly predicted ...\n",
              "13   P-Value is the determination of a result when...\n",
              "14   A ROC curve is a graph showing the performanc...\n",
              "15   KNN is a supervised machine learning techniqu...\n",
              "16   Naive Bayes classifier assumes that all the i...\n",
              "17   Ensemble Learning is a technique in which the...\n",
              "18  Bagging is a method of combining predictions o...\n",
              "19   Bias is the difference between the average pr...\n",
              "20   A regression model that uses L1 Regularizatio...\n",
              "21  1. Replacing the missing value with the mean, ...\n",
              "22  \u001b[1mUnivariate Selection: In this method, we u...\n",
              "23   To Handle Categorical Values We Can Perform E...\n",
              "24   Outliers are some unusual data points that di...\n",
              "25   Outliers are some unusual data points that di...\n",
              "26   In imbalanced data, samples in each class wil...\n",
              "27   A/B Testing is a statistical hypothesis test ...\n",
              "28   It is a technique for increasing the model pe...\n",
              "29   PCA (Principal Component Analysis) is a dimen...\n",
              "30   A pipeline is used to automate machine learni..."
            ]
          },
          "metadata": {},
          "execution_count": 973
        }
      ]
    },
    {
      "cell_type": "code",
      "source": [
        "len(answers) #.reset_index().head(2)"
      ],
      "metadata": {
        "colab": {
          "base_uri": "https://localhost:8080/"
        },
        "id": "MNetwso6LRYx",
        "outputId": "ecd17911-f0e8-41af-c6f0-9882357ebeee"
      },
      "execution_count": 980,
      "outputs": [
        {
          "output_type": "execute_result",
          "data": {
            "text/plain": [
              "31"
            ]
          },
          "metadata": {},
          "execution_count": 980
        }
      ]
    },
    {
      "cell_type": "markdown",
      "source": [
        "Creating Final Dataset"
      ],
      "metadata": {
        "id": "Zn049RYckyuZ"
      }
    },
    {
      "cell_type": "code",
      "source": [
        "final_dataframe = pd.DataFrame(question, columns = ['Questions'])\n",
        "final_dataframe['Answers'] = answers\n",
        "final_dataframe"
      ],
      "metadata": {
        "colab": {
          "base_uri": "https://localhost:8080/",
          "height": 1000
        },
        "id": "dcY-92EDLxnJ",
        "outputId": "a1fab0da-4997-4bd2-d851-dc77ac5a6c63"
      },
      "execution_count": 977,
      "outputs": [
        {
          "output_type": "execute_result",
          "data": {
            "text/html": [
              "<div>\n",
              "<style scoped>\n",
              "    .dataframe tbody tr th:only-of-type {\n",
              "        vertical-align: middle;\n",
              "    }\n",
              "\n",
              "    .dataframe tbody tr th {\n",
              "        vertical-align: top;\n",
              "    }\n",
              "\n",
              "    .dataframe thead th {\n",
              "        text-align: right;\n",
              "    }\n",
              "</style>\n",
              "<table border=\"1\" class=\"dataframe\">\n",
              "  <thead>\n",
              "    <tr style=\"text-align: right;\">\n",
              "      <th></th>\n",
              "      <th>Questions</th>\n",
              "      <th>Answers</th>\n",
              "    </tr>\n",
              "  </thead>\n",
              "  <tbody>\n",
              "    <tr>\n",
              "      <th>0</th>\n",
              "      <td>0. What is Machine Learning?</td>\n",
              "      <td>Machine learning is the science of getting co...</td>\n",
              "    </tr>\n",
              "    <tr>\n",
              "      <th>1</th>\n",
              "      <td>1. Explain the basic difference between Superv...</td>\n",
              "      <td>Supervised Learning: A model is trained on the...</td>\n",
              "    </tr>\n",
              "    <tr>\n",
              "      <th>2</th>\n",
              "      <td>2. What do you mean by Reinforcement Learning?</td>\n",
              "      <td>reinforcement learning is an area of machine ...</td>\n",
              "    </tr>\n",
              "    <tr>\n",
              "      <th>3</th>\n",
              "      <td>3. What are the different types of data used i...</td>\n",
              "      <td>There Are Two Types of Data. Structured and U...</td>\n",
              "    </tr>\n",
              "    <tr>\n",
              "      <th>4</th>\n",
              "      <td>4. Features vs. Labels?</td>\n",
              "      <td>Features are the input information. On the ot...</td>\n",
              "    </tr>\n",
              "    <tr>\n",
              "      <th>5</th>\n",
              "      <td>5. Explain the difference between Regression a...</td>\n",
              "      <td>Regression: regression is a process of finding...</td>\n",
              "    </tr>\n",
              "    <tr>\n",
              "      <th>6</th>\n",
              "      <td>6. What is Scikit-learn used for?</td>\n",
              "      <td>Scikit-learn is a robust library in python us...</td>\n",
              "    </tr>\n",
              "    <tr>\n",
              "      <th>7</th>\n",
              "      <td>7. What are a training set and test set in Mac...</td>\n",
              "      <td>The Training Set is the set given to the mode...</td>\n",
              "    </tr>\n",
              "    <tr>\n",
              "      <th>8</th>\n",
              "      <td>8. Explain the stages of building a Machine Le...</td>\n",
              "      <td>Data Collection: It is the first stage of any ...</td>\n",
              "    </tr>\n",
              "    <tr>\n",
              "      <th>9</th>\n",
              "      <td>9. Overfitting vs. Underfitting?</td>\n",
              "      <td>Overfitting: It is a condition that occurs whe...</td>\n",
              "    </tr>\n",
              "    <tr>\n",
              "      <th>10</th>\n",
              "      <td>10. Explain the Confusion Matrix with respect ...</td>\n",
              "      <td>The Confusion Matrix is a measurement table t...</td>\n",
              "    </tr>\n",
              "    <tr>\n",
              "      <th>11</th>\n",
              "      <td>11. What is the difference between Type I and ...</td>\n",
              "      <td>Type I Error (False Positive Error): It occurs...</td>\n",
              "    </tr>\n",
              "    <tr>\n",
              "      <th>12</th>\n",
              "      <td>12. Differentiate Precision, Recall, Accuracy,...</td>\n",
              "      <td>Precision is the ratio of correctly predicted ...</td>\n",
              "    </tr>\n",
              "    <tr>\n",
              "      <th>13</th>\n",
              "      <td>13. What does the P-value mean?</td>\n",
              "      <td>P-Value is the determination of a result when...</td>\n",
              "    </tr>\n",
              "    <tr>\n",
              "      <th>14</th>\n",
              "      <td>14. Explain how a ROC Curve works?</td>\n",
              "      <td>A ROC curve is a graph showing the performanc...</td>\n",
              "    </tr>\n",
              "    <tr>\n",
              "      <th>15</th>\n",
              "      <td>15. How is KNN different from K-means clustering?</td>\n",
              "      <td>KNN is a supervised machine learning techniqu...</td>\n",
              "    </tr>\n",
              "    <tr>\n",
              "      <th>16</th>\n",
              "      <td>16. What is ‘Naive’ in the Naive Bayes Theorem?</td>\n",
              "      <td>Naive Bayes classifier assumes that all the i...</td>\n",
              "    </tr>\n",
              "    <tr>\n",
              "      <th>17</th>\n",
              "      <td>17. How does Ensemble Learning work?</td>\n",
              "      <td>Ensemble Learning is a technique in which the...</td>\n",
              "    </tr>\n",
              "    <tr>\n",
              "      <th>18</th>\n",
              "      <td>18. What is bagging and boosting in Machine Le...</td>\n",
              "      <td>Bagging is a method of combining predictions o...</td>\n",
              "    </tr>\n",
              "    <tr>\n",
              "      <th>19</th>\n",
              "      <td>19. What is a bias-variance tradeoff?</td>\n",
              "      <td>Bias is the difference between the average pr...</td>\n",
              "    </tr>\n",
              "    <tr>\n",
              "      <th>20</th>\n",
              "      <td>20. Explain L1 and L2 Regularization?</td>\n",
              "      <td>A regression model that uses L1 Regularizatio...</td>\n",
              "    </tr>\n",
              "    <tr>\n",
              "      <th>21</th>\n",
              "      <td>21. What are the different ways to handle miss...</td>\n",
              "      <td>1. Replacing the missing value with the mean, ...</td>\n",
              "    </tr>\n",
              "    <tr>\n",
              "      <th>22</th>\n",
              "      <td>22. What are the different techniques you can ...</td>\n",
              "      <td>\u001b[1mUnivariate Selection: In this method, we u...</td>\n",
              "    </tr>\n",
              "    <tr>\n",
              "      <th>23</th>\n",
              "      <td>23. What approaches can be followed to handle ...</td>\n",
              "      <td>To Handle Categorical Values We Can Perform E...</td>\n",
              "    </tr>\n",
              "    <tr>\n",
              "      <th>24</th>\n",
              "      <td>24. What are Outliers, and how can we handle t...</td>\n",
              "      <td>Outliers are some unusual data points that di...</td>\n",
              "    </tr>\n",
              "    <tr>\n",
              "      <th>25</th>\n",
              "      <td>25. What is feature scaling and transformation...</td>\n",
              "      <td>Outliers are some unusual data points that di...</td>\n",
              "    </tr>\n",
              "    <tr>\n",
              "      <th>26</th>\n",
              "      <td>26. How can you handle an imbalanced dataset?</td>\n",
              "      <td>In imbalanced data, samples in each class wil...</td>\n",
              "    </tr>\n",
              "    <tr>\n",
              "      <th>27</th>\n",
              "      <td>27. What is A/B Testing?</td>\n",
              "      <td>A/B Testing is a statistical hypothesis test ...</td>\n",
              "    </tr>\n",
              "    <tr>\n",
              "      <th>28</th>\n",
              "      <td>28. What is Cross-Validation in Machine Learning?</td>\n",
              "      <td>It is a technique for increasing the model pe...</td>\n",
              "    </tr>\n",
              "    <tr>\n",
              "      <th>29</th>\n",
              "      <td>29. What is PCA, and how is it useful?</td>\n",
              "      <td>PCA (Principal Component Analysis) is a dimen...</td>\n",
              "    </tr>\n",
              "    <tr>\n",
              "      <th>30</th>\n",
              "      <td>30. How is a pipeline used in Machine Learning?</td>\n",
              "      <td>A pipeline is used to automate machine learni...</td>\n",
              "    </tr>\n",
              "  </tbody>\n",
              "</table>\n",
              "</div>"
            ],
            "text/plain": [
              "                                            Questions                                            Answers\n",
              "0                        0. What is Machine Learning?   Machine learning is the science of getting co...\n",
              "1   1. Explain the basic difference between Superv...  Supervised Learning: A model is trained on the...\n",
              "2      2. What do you mean by Reinforcement Learning?   reinforcement learning is an area of machine ...\n",
              "3   3. What are the different types of data used i...   There Are Two Types of Data. Structured and U...\n",
              "4                             4. Features vs. Labels?   Features are the input information. On the ot...\n",
              "5   5. Explain the difference between Regression a...  Regression: regression is a process of finding...\n",
              "6                   6. What is Scikit-learn used for?   Scikit-learn is a robust library in python us...\n",
              "7   7. What are a training set and test set in Mac...   The Training Set is the set given to the mode...\n",
              "8   8. Explain the stages of building a Machine Le...  Data Collection: It is the first stage of any ...\n",
              "9                    9. Overfitting vs. Underfitting?  Overfitting: It is a condition that occurs whe...\n",
              "10  10. Explain the Confusion Matrix with respect ...   The Confusion Matrix is a measurement table t...\n",
              "11  11. What is the difference between Type I and ...  Type I Error (False Positive Error): It occurs...\n",
              "12  12. Differentiate Precision, Recall, Accuracy,...  Precision is the ratio of correctly predicted ...\n",
              "13                    13. What does the P-value mean?   P-Value is the determination of a result when...\n",
              "14                 14. Explain how a ROC Curve works?   A ROC curve is a graph showing the performanc...\n",
              "15  15. How is KNN different from K-means clustering?   KNN is a supervised machine learning techniqu...\n",
              "16    16. What is ‘Naive’ in the Naive Bayes Theorem?   Naive Bayes classifier assumes that all the i...\n",
              "17               17. How does Ensemble Learning work?   Ensemble Learning is a technique in which the...\n",
              "18  18. What is bagging and boosting in Machine Le...  Bagging is a method of combining predictions o...\n",
              "19              19. What is a bias-variance tradeoff?   Bias is the difference between the average pr...\n",
              "20              20. Explain L1 and L2 Regularization?   A regression model that uses L1 Regularizatio...\n",
              "21  21. What are the different ways to handle miss...  1. Replacing the missing value with the mean, ...\n",
              "22  22. What are the different techniques you can ...  \u001b[1mUnivariate Selection: In this method, we u...\n",
              "23  23. What approaches can be followed to handle ...   To Handle Categorical Values We Can Perform E...\n",
              "24  24. What are Outliers, and how can we handle t...   Outliers are some unusual data points that di...\n",
              "25  25. What is feature scaling and transformation...   Outliers are some unusual data points that di...\n",
              "26      26. How can you handle an imbalanced dataset?   In imbalanced data, samples in each class wil...\n",
              "27                           27. What is A/B Testing?   A/B Testing is a statistical hypothesis test ...\n",
              "28  28. What is Cross-Validation in Machine Learning?   It is a technique for increasing the model pe...\n",
              "29             29. What is PCA, and how is it useful?   PCA (Principal Component Analysis) is a dimen...\n",
              "30    30. How is a pipeline used in Machine Learning?   A pipeline is used to automate machine learni..."
            ]
          },
          "metadata": {},
          "execution_count": 977
        }
      ]
    },
    {
      "cell_type": "markdown",
      "source": [
        "Exporting to csv"
      ],
      "metadata": {
        "id": "WHQdvvtYk3RQ"
      }
    },
    {
      "cell_type": "code",
      "source": [
        "final_dataframe.to_csv('Scrapped_ML_QnA.csv', index=False)"
      ],
      "metadata": {
        "id": "Thyiu1LzSXFQ"
      },
      "execution_count": 978,
      "outputs": []
    },
    {
      "cell_type": "code",
      "source": [
        ""
      ],
      "metadata": {
        "id": "VpkD_6PvgzgX"
      },
      "execution_count": null,
      "outputs": []
    }
  ]
}