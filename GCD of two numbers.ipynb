{
 "cells": [
  {
   "cell_type": "code",
   "execution_count": 21,
   "metadata": {},
   "outputs": [
    {
     "name": "stdout",
     "output_type": "stream",
     "text": [
      "Enter first Number: 25\n",
      "Enter second Number: 15\n",
      "GCD of 25 and 15 is 5\n"
     ]
    }
   ],
   "source": [
    "def gcd(num1,num2):\n",
    "    \n",
    "    # if one of these two no. is zero then return zero\n",
    "    \n",
    "    if num1==0 or num2==0:\n",
    "        return 0\n",
    "    \n",
    "    # finding greater number among these two number\n",
    "    \n",
    "    if num1>num2:      \n",
    "          greater_num=num1\n",
    "    else:\n",
    "          greater_num=num2\n",
    "            \n",
    "    # Now we run a loop upto greater number because GCD is always not greater than greater number\n",
    "    \n",
    "    for i in range(2,greater_num): \n",
    "        \n",
    "        if ((num1%i==0) and (num2%i==0)):\n",
    "            gcd=i\n",
    "    return gcd\n",
    "\n",
    "#Enter Two numbers for GCD\n",
    "\n",
    "n1 = int(input('Enter first Number: '))\n",
    "n2 = int(input('Enter second Number: '))\n",
    "\n",
    "g = gcd(n1,n2)\n",
    "print('GCD of {} and {} is {}'.format(n1,n2,g))\n"
   ]
  },
  {
   "cell_type": "code",
   "execution_count": null,
   "metadata": {},
   "outputs": [],
   "source": []
  }
 ],
 "metadata": {
  "kernelspec": {
   "display_name": "Python 3",
   "language": "python",
   "name": "python3"
  },
  "language_info": {
   "codemirror_mode": {
    "name": "ipython",
    "version": 3
   },
   "file_extension": ".py",
   "mimetype": "text/x-python",
   "name": "python",
   "nbconvert_exporter": "python",
   "pygments_lexer": "ipython3",
   "version": "3.8.5"
  }
 },
 "nbformat": 4,
 "nbformat_minor": 4
}
