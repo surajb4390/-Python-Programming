{
 "cells": [
  {
   "cell_type": "code",
   "execution_count": 12,
   "metadata": {},
   "outputs": [
    {
     "name": "stdout",
     "output_type": "stream",
     "text": [
      "Enter first Number: 15\n",
      "Enter second Number: 9\n",
      "LCM of 15 and 9 is 45\n"
     ]
    }
   ],
   "source": [
    "def LCM(num1,num2):\n",
    "    \n",
    "    # If one of among two is zero then return 0\n",
    "    if num1==0 or num2==0:\n",
    "        return 0\n",
    "    \n",
    "    # If one of among two is one then return 1\n",
    "    if num1==1 or num2==1:\n",
    "        return 1\n",
    "    # Finding Large Number\n",
    "    if num1>num2:\n",
    "        large = num1\n",
    "        \n",
    "    else:\n",
    "        large = num2\n",
    "        \n",
    "    #apply  a while True till large number divisible by both numbers     \n",
    "    while True:\n",
    "        if large%num1==0 and large%num2==0:\n",
    "            lcm=large\n",
    "            break\n",
    "        large+=1\n",
    "    return lcm\n",
    "\n",
    "# input Enter 2 numbers  \n",
    "n1 = int(input('Enter first Number: '))\n",
    "n2 = int(input('Enter second Number: '))\n",
    "\n",
    "L = LCM(n1,n2)\n",
    "\n",
    "#Output\n",
    "print('LCM of {} and {} is {}'.format(n1,n2,L))"
   ]
  },
  {
   "cell_type": "code",
   "execution_count": null,
   "metadata": {},
   "outputs": [],
   "source": []
  }
 ],
 "metadata": {
  "kernelspec": {
   "display_name": "Python 3",
   "language": "python",
   "name": "python3"
  },
  "language_info": {
   "codemirror_mode": {
    "name": "ipython",
    "version": 3
   },
   "file_extension": ".py",
   "mimetype": "text/x-python",
   "name": "python",
   "nbconvert_exporter": "python",
   "pygments_lexer": "ipython3",
   "version": "3.8.5"
  }
 },
 "nbformat": 4,
 "nbformat_minor": 4
}
