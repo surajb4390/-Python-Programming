{
 "cells": [
  {
   "cell_type": "code",
   "execution_count": 1,
   "metadata": {},
   "outputs": [],
   "source": [
    "#next prime number"
   ]
  },
  {
   "cell_type": "code",
   "execution_count": 2,
   "metadata": {},
   "outputs": [
    {
     "name": "stdout",
     "output_type": "stream",
     "text": [
      "Enter a Number : 20\n",
      "Next prime number is  23\n"
     ]
    }
   ],
   "source": [
    "n = int(input('Enter a Number : '))\n",
    "n+=1\n",
    "\n",
    "for i in range(2,n):\n",
    "    #here we cheack if given number is dividible by 2 to n \n",
    "    #if divisible we do increament in n\n",
    "    if n%i==0:\n",
    "        n+=1\n",
    "        \n",
    "else:\n",
    "    print('Next prime number is ',n)\n",
    "        "
   ]
  },
  {
   "cell_type": "code",
   "execution_count": null,
   "metadata": {},
   "outputs": [],
   "source": []
  }
 ],
 "metadata": {
  "kernelspec": {
   "display_name": "Python 3 (ipykernel)",
   "language": "python",
   "name": "python3"
  },
  "language_info": {
   "codemirror_mode": {
    "name": "ipython",
    "version": 3
   },
   "file_extension": ".py",
   "mimetype": "text/x-python",
   "name": "python",
   "nbconvert_exporter": "python",
   "pygments_lexer": "ipython3",
   "version": "3.9.7"
  }
 },
 "nbformat": 4,
 "nbformat_minor": 4
}
