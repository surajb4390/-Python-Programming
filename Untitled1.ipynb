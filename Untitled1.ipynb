{
 "cells": [
  {
   "cell_type": "code",
   "execution_count": 13,
   "id": "ace7b258",
   "metadata": {},
   "outputs": [
    {
     "name": "stdout",
     "output_type": "stream",
     "text": [
      "Enter a string : apple\n",
      " aple\n"
     ]
    }
   ],
   "source": [
    "#Enter string\n",
    "x=input(\"Enter a string : \")\n",
    "\n",
    "\n",
    "s=\" \"\n",
    "\n",
    "i=0\n",
    "\n",
    "#apply for loop to check all the alphabets\n",
    "for y in x:\n",
    "    \n",
    "    #checking index of alphabets if any alphabet\n",
    "    #come for more than 1 then this index function\n",
    "    #shows index of 1st alphabet in text\n",
    "    \n",
    "    if x.index(y)==i:\n",
    "        \n",
    "        #concating all unique alphabet\n",
    "        s+=y\n",
    "    \n",
    "    #increment in i\n",
    "    i+=1\n",
    "    \n",
    "#print unique alphabets    \n",
    "print(s)"
   ]
  },
  {
   "cell_type": "code",
   "execution_count": null,
   "id": "bd6fe534",
   "metadata": {},
   "outputs": [],
   "source": []
  }
 ],
 "metadata": {
  "kernelspec": {
   "display_name": "Python 3 (ipykernel)",
   "language": "python",
   "name": "python3"
  },
  "language_info": {
   "codemirror_mode": {
    "name": "ipython",
    "version": 3
   },
   "file_extension": ".py",
   "mimetype": "text/x-python",
   "name": "python",
   "nbconvert_exporter": "python",
   "pygments_lexer": "ipython3",
   "version": "3.9.7"
  }
 },
 "nbformat": 4,
 "nbformat_minor": 5
}
