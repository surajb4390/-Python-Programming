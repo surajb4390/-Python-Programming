{
 "cells": [
  {
   "cell_type": "code",
   "execution_count": 1,
   "metadata": {},
   "outputs": [
    {
     "name": "stdout",
     "output_type": "stream",
     "text": [
      "Enter a number : 5\n",
      "Given Number 5 is Odd\n"
     ]
    }
   ],
   "source": [
    "#find out enterd number is odd or even\n",
    "num = int(input('Enter a number : '))\n",
    "\n",
    "if num%2==0:\n",
    "    print('Given Number',num,'is Even')\n",
    "else:\n",
    "    print('Given Number',num,'is Odd')"
   ]
  },
  {
   "cell_type": "code",
   "execution_count": 8,
   "metadata": {},
   "outputs": [
    {
     "name": "stdout",
     "output_type": "stream",
     "text": [
      "Enter a number : 1\n",
      "Enter a number : 10\n",
      "Prime Numbers in given range are:\n",
      "2\n",
      "3\n",
      "5\n",
      "7\n"
     ]
    }
   ],
   "source": [
    "#find Prime numbers in given range\n",
    "start=int(input('Enter a number : '))\n",
    "last=int(input('Enter a number : '))\n",
    "print('Prime Numbers in given range are:')\n",
    "for i in range(start,last+1):\n",
    "    count=0\n",
    "    for j in range(start,last+1):\n",
    "        if i%j==0:\n",
    "            count+=1\n",
    "    if count==2:\n",
    "        print(i,sep=' ')"
   ]
  },
  {
   "cell_type": "code",
   "execution_count": null,
   "metadata": {},
   "outputs": [],
   "source": []
  }
 ],
 "metadata": {
  "kernelspec": {
   "display_name": "Python 3",
   "language": "python",
   "name": "python3"
  },
  "language_info": {
   "codemirror_mode": {
    "name": "ipython",
    "version": 3
   },
   "file_extension": ".py",
   "mimetype": "text/x-python",
   "name": "python",
   "nbconvert_exporter": "python",
   "pygments_lexer": "ipython3",
   "version": "3.8.5"
  }
 },
 "nbformat": 4,
 "nbformat_minor": 4
}
