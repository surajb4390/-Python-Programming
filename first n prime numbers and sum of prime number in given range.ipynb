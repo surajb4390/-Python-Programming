{
 "cells": [
  {
   "cell_type": "code",
   "execution_count": 10,
   "metadata": {},
   "outputs": [
    {
     "name": "stdout",
     "output_type": "stream",
     "text": [
      "Enter a nunber : 10\n",
      "2 3 5 7 11 13 17 19 23 29 "
     ]
    }
   ],
   "source": [
    "#First N prime Numbers\n",
    "\n",
    "num = int(input('Enter a nunber : '))\n",
    "c=2\n",
    "while num!=0:\n",
    "    for i in range(2,c):\n",
    "        if c%i==0:\n",
    "            break\n",
    "    else:\n",
    "        print(c,end=' ')\n",
    "        num-=1\n",
    "    c+=1    "
   ]
  },
  {
   "cell_type": "code",
   "execution_count": 27,
   "metadata": {},
   "outputs": [
    {
     "name": "stdout",
     "output_type": "stream",
     "text": [
      "Enter a number : 1\n",
      "Enter a number : 20\n",
      "2,3,5,7,11,13,17,19,\n",
      "\n",
      "The sum of prime numbers in given range 1 to 20 is :  77\n"
     ]
    }
   ],
   "source": [
    "#Sum of prime Numbers in given range\n",
    "num1 = int(input('Enter a number : '))\n",
    "num2 = int(input('Enter a number : '))\n",
    "\n",
    "s=0\n",
    "for i in range(num1,num2+1):\n",
    "    c=0\n",
    "    for j in range(1,num2+1):\n",
    "        if i%j==0:\n",
    "            c+=1      \n",
    "    if c==2:\n",
    "        \n",
    "        print(i,end=',')\n",
    "        s = s +i\n",
    "        \n",
    "print('\\n\\nThe sum of prime numbers in given range',num1,'to',num2,'is : ',s)"
   ]
  },
  {
   "cell_type": "code",
   "execution_count": null,
   "metadata": {},
   "outputs": [],
   "source": []
  }
 ],
 "metadata": {
  "kernelspec": {
   "display_name": "Python 3",
   "language": "python",
   "name": "python3"
  },
  "language_info": {
   "codemirror_mode": {
    "name": "ipython",
    "version": 3
   },
   "file_extension": ".py",
   "mimetype": "text/x-python",
   "name": "python",
   "nbconvert_exporter": "python",
   "pygments_lexer": "ipython3",
   "version": "3.8.5"
  }
 },
 "nbformat": 4,
 "nbformat_minor": 4
}
